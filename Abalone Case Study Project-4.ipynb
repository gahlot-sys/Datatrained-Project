{
 "cells": [
  {
   "cell_type": "markdown",
   "id": "e0ca19f2",
   "metadata": {},
   "source": [
    "# Abalone Case Study"
   ]
  },
  {
   "cell_type": "markdown",
   "id": "3b5424dc",
   "metadata": {},
   "source": [
    "Problem Statement:\n",
    "\n",
    "The age of abalone is determined by cutting the shell through the cone, staining it, and counting the number of rings through a microscope -- a boring and time-consuming task. Other measurements, which are easier to obtain, are used to predict the age. Further information, such as weather patterns and location (hence food availability) may be required to solve the problem.\n",
    "\n",
    "Attribute Information\n",
    "\n",
    "Given is the attribute name, attribute type, the measurement unit and a brief description. The number of rings is the value to predict. \n",
    "\n",
    "Name / Data Type / Measurement Unit / Description\n",
    "-----------------------------\n",
    "Sex / nominal / -- / M, F, and I (infant)\n",
    "Length / continuous / mm / Longest shell measurement\n",
    "Diameter / continuous / mm / perpendicular to length\n",
    "Height / continuous / mm / with meat in shell\n",
    "Whole weight / continuous / grams / whole abalone\n",
    "Shucked weight / continuous / grams / weight of meat\n",
    "Viscera weight / continuous / grams / gut weight (after bleeding)\n",
    "Shell weight / continuous / grams / after being dried\n",
    "Rings / integer / -- / +1.5 gives the age in years. \n",
    "\n",
    "You have to predict the rings of each abalone which will lead us to the age of that abalone."
   ]
  },
  {
   "cell_type": "code",
   "execution_count": 1,
   "id": "0f2b34f1",
   "metadata": {},
   "outputs": [],
   "source": [
    "import pandas as pd\n",
    "import numpy as np\n",
    "import seaborn as sns\n",
    "import matplotlib.pyplot as plt\n",
    "\n",
    "from sklearn import metrics\n",
    "from scipy import stats\n",
    "from statsmodels.stats.outliers_influence import variance_inflation_factor\n",
    "\n",
    "from sklearn.preprocessing import LabelEncoder\n",
    "from sklearn.preprocessing import PowerTransformer\n",
    "from sklearn.linear_model import LogisticRegression\n",
    "from sklearn.metrics import confusion_matrix\n",
    "\n",
    "from sklearn.tree import DecisionTreeClassifier\n",
    "from sklearn.model_selection import train_test_split\n",
    "from sklearn.model_selection import KFold\n",
    "from sklearn.model_selection import cross_val_score\n",
    "from sklearn.model_selection import GridSearchCV\n",
    "\n",
    "from sklearn.svm import SVC\n",
    "from sklearn.neighbors import KNeighborsClassifier\n",
    "\n",
    "import pickle\n",
    "import warnings\n",
    "warnings.simplefilter(action='ignore', category=FutureWarning)"
   ]
  },
  {
   "cell_type": "code",
   "execution_count": 2,
   "id": "12108ed4",
   "metadata": {},
   "outputs": [
    {
     "data": {
      "text/html": [
       "<div>\n",
       "<style scoped>\n",
       "    .dataframe tbody tr th:only-of-type {\n",
       "        vertical-align: middle;\n",
       "    }\n",
       "\n",
       "    .dataframe tbody tr th {\n",
       "        vertical-align: top;\n",
       "    }\n",
       "\n",
       "    .dataframe thead th {\n",
       "        text-align: right;\n",
       "    }\n",
       "</style>\n",
       "<table border=\"1\" class=\"dataframe\">\n",
       "  <thead>\n",
       "    <tr style=\"text-align: right;\">\n",
       "      <th></th>\n",
       "      <th>Sex</th>\n",
       "      <th>Length</th>\n",
       "      <th>Diameter</th>\n",
       "      <th>Height</th>\n",
       "      <th>Whole weight</th>\n",
       "      <th>Shucked weight</th>\n",
       "      <th>Viscera weight</th>\n",
       "      <th>Shell weight</th>\n",
       "      <th>Rings</th>\n",
       "    </tr>\n",
       "  </thead>\n",
       "  <tbody>\n",
       "    <tr>\n",
       "      <th>0</th>\n",
       "      <td>M</td>\n",
       "      <td>0.455</td>\n",
       "      <td>0.365</td>\n",
       "      <td>0.095</td>\n",
       "      <td>0.5140</td>\n",
       "      <td>0.2245</td>\n",
       "      <td>0.1010</td>\n",
       "      <td>0.1500</td>\n",
       "      <td>15</td>\n",
       "    </tr>\n",
       "    <tr>\n",
       "      <th>1</th>\n",
       "      <td>M</td>\n",
       "      <td>0.350</td>\n",
       "      <td>0.265</td>\n",
       "      <td>0.090</td>\n",
       "      <td>0.2255</td>\n",
       "      <td>0.0995</td>\n",
       "      <td>0.0485</td>\n",
       "      <td>0.0700</td>\n",
       "      <td>7</td>\n",
       "    </tr>\n",
       "    <tr>\n",
       "      <th>2</th>\n",
       "      <td>F</td>\n",
       "      <td>0.530</td>\n",
       "      <td>0.420</td>\n",
       "      <td>0.135</td>\n",
       "      <td>0.6770</td>\n",
       "      <td>0.2565</td>\n",
       "      <td>0.1415</td>\n",
       "      <td>0.2100</td>\n",
       "      <td>9</td>\n",
       "    </tr>\n",
       "    <tr>\n",
       "      <th>3</th>\n",
       "      <td>M</td>\n",
       "      <td>0.440</td>\n",
       "      <td>0.365</td>\n",
       "      <td>0.125</td>\n",
       "      <td>0.5160</td>\n",
       "      <td>0.2155</td>\n",
       "      <td>0.1140</td>\n",
       "      <td>0.1550</td>\n",
       "      <td>10</td>\n",
       "    </tr>\n",
       "    <tr>\n",
       "      <th>4</th>\n",
       "      <td>I</td>\n",
       "      <td>0.330</td>\n",
       "      <td>0.255</td>\n",
       "      <td>0.080</td>\n",
       "      <td>0.2050</td>\n",
       "      <td>0.0895</td>\n",
       "      <td>0.0395</td>\n",
       "      <td>0.0550</td>\n",
       "      <td>7</td>\n",
       "    </tr>\n",
       "    <tr>\n",
       "      <th>...</th>\n",
       "      <td>...</td>\n",
       "      <td>...</td>\n",
       "      <td>...</td>\n",
       "      <td>...</td>\n",
       "      <td>...</td>\n",
       "      <td>...</td>\n",
       "      <td>...</td>\n",
       "      <td>...</td>\n",
       "      <td>...</td>\n",
       "    </tr>\n",
       "    <tr>\n",
       "      <th>4172</th>\n",
       "      <td>F</td>\n",
       "      <td>0.565</td>\n",
       "      <td>0.450</td>\n",
       "      <td>0.165</td>\n",
       "      <td>0.8870</td>\n",
       "      <td>0.3700</td>\n",
       "      <td>0.2390</td>\n",
       "      <td>0.2490</td>\n",
       "      <td>11</td>\n",
       "    </tr>\n",
       "    <tr>\n",
       "      <th>4173</th>\n",
       "      <td>M</td>\n",
       "      <td>0.590</td>\n",
       "      <td>0.440</td>\n",
       "      <td>0.135</td>\n",
       "      <td>0.9660</td>\n",
       "      <td>0.4390</td>\n",
       "      <td>0.2145</td>\n",
       "      <td>0.2605</td>\n",
       "      <td>10</td>\n",
       "    </tr>\n",
       "    <tr>\n",
       "      <th>4174</th>\n",
       "      <td>M</td>\n",
       "      <td>0.600</td>\n",
       "      <td>0.475</td>\n",
       "      <td>0.205</td>\n",
       "      <td>1.1760</td>\n",
       "      <td>0.5255</td>\n",
       "      <td>0.2875</td>\n",
       "      <td>0.3080</td>\n",
       "      <td>9</td>\n",
       "    </tr>\n",
       "    <tr>\n",
       "      <th>4175</th>\n",
       "      <td>F</td>\n",
       "      <td>0.625</td>\n",
       "      <td>0.485</td>\n",
       "      <td>0.150</td>\n",
       "      <td>1.0945</td>\n",
       "      <td>0.5310</td>\n",
       "      <td>0.2610</td>\n",
       "      <td>0.2960</td>\n",
       "      <td>10</td>\n",
       "    </tr>\n",
       "    <tr>\n",
       "      <th>4176</th>\n",
       "      <td>M</td>\n",
       "      <td>0.710</td>\n",
       "      <td>0.555</td>\n",
       "      <td>0.195</td>\n",
       "      <td>1.9485</td>\n",
       "      <td>0.9455</td>\n",
       "      <td>0.3765</td>\n",
       "      <td>0.4950</td>\n",
       "      <td>12</td>\n",
       "    </tr>\n",
       "  </tbody>\n",
       "</table>\n",
       "<p>4177 rows × 9 columns</p>\n",
       "</div>"
      ],
      "text/plain": [
       "     Sex  Length  Diameter  Height  Whole weight  Shucked weight  \\\n",
       "0      M   0.455     0.365   0.095        0.5140          0.2245   \n",
       "1      M   0.350     0.265   0.090        0.2255          0.0995   \n",
       "2      F   0.530     0.420   0.135        0.6770          0.2565   \n",
       "3      M   0.440     0.365   0.125        0.5160          0.2155   \n",
       "4      I   0.330     0.255   0.080        0.2050          0.0895   \n",
       "...   ..     ...       ...     ...           ...             ...   \n",
       "4172   F   0.565     0.450   0.165        0.8870          0.3700   \n",
       "4173   M   0.590     0.440   0.135        0.9660          0.4390   \n",
       "4174   M   0.600     0.475   0.205        1.1760          0.5255   \n",
       "4175   F   0.625     0.485   0.150        1.0945          0.5310   \n",
       "4176   M   0.710     0.555   0.195        1.9485          0.9455   \n",
       "\n",
       "      Viscera weight  Shell weight  Rings  \n",
       "0             0.1010        0.1500     15  \n",
       "1             0.0485        0.0700      7  \n",
       "2             0.1415        0.2100      9  \n",
       "3             0.1140        0.1550     10  \n",
       "4             0.0395        0.0550      7  \n",
       "...              ...           ...    ...  \n",
       "4172          0.2390        0.2490     11  \n",
       "4173          0.2145        0.2605     10  \n",
       "4174          0.2875        0.3080      9  \n",
       "4175          0.2610        0.2960     10  \n",
       "4176          0.3765        0.4950     12  \n",
       "\n",
       "[4177 rows x 9 columns]"
      ]
     },
     "execution_count": 2,
     "metadata": {},
     "output_type": "execute_result"
    }
   ],
   "source": [
    "df = pd.read_csv('Abalone case.csv')\n",
    "df"
   ]
  },
  {
   "cell_type": "code",
   "execution_count": 3,
   "id": "a86c9209",
   "metadata": {},
   "outputs": [
    {
     "data": {
      "text/plain": [
       "(4177, 9)"
      ]
     },
     "execution_count": 3,
     "metadata": {},
     "output_type": "execute_result"
    }
   ],
   "source": [
    "df.shape"
   ]
  },
  {
   "cell_type": "code",
   "execution_count": 4,
   "id": "e31725a5",
   "metadata": {},
   "outputs": [
    {
     "data": {
      "text/plain": [
       "Sex                object\n",
       "Length            float64\n",
       "Diameter          float64\n",
       "Height            float64\n",
       "Whole weight      float64\n",
       "Shucked weight    float64\n",
       "Viscera weight    float64\n",
       "Shell weight      float64\n",
       "Rings               int64\n",
       "dtype: object"
      ]
     },
     "execution_count": 4,
     "metadata": {},
     "output_type": "execute_result"
    }
   ],
   "source": [
    "df.dtypes"
   ]
  },
  {
   "cell_type": "code",
   "execution_count": 5,
   "id": "b66d4980",
   "metadata": {},
   "outputs": [
    {
     "name": "stdout",
     "output_type": "stream",
     "text": [
      "<class 'pandas.core.frame.DataFrame'>\n",
      "RangeIndex: 4177 entries, 0 to 4176\n",
      "Data columns (total 9 columns):\n",
      " #   Column          Non-Null Count  Dtype  \n",
      "---  ------          --------------  -----  \n",
      " 0   Sex             4177 non-null   object \n",
      " 1   Length          4177 non-null   float64\n",
      " 2   Diameter        4177 non-null   float64\n",
      " 3   Height          4177 non-null   float64\n",
      " 4   Whole weight    4177 non-null   float64\n",
      " 5   Shucked weight  4177 non-null   float64\n",
      " 6   Viscera weight  4177 non-null   float64\n",
      " 7   Shell weight    4177 non-null   float64\n",
      " 8   Rings           4177 non-null   int64  \n",
      "dtypes: float64(7), int64(1), object(1)\n",
      "memory usage: 293.8+ KB\n"
     ]
    }
   ],
   "source": [
    "df.info()"
   ]
  },
  {
   "cell_type": "code",
   "execution_count": 6,
   "id": "b38b534b",
   "metadata": {},
   "outputs": [
    {
     "data": {
      "text/plain": [
       "Index(['Sex', 'Length', 'Diameter', 'Height', 'Whole weight', 'Shucked weight',\n",
       "       'Viscera weight', 'Shell weight', 'Rings'],\n",
       "      dtype='object')"
      ]
     },
     "execution_count": 6,
     "metadata": {},
     "output_type": "execute_result"
    }
   ],
   "source": [
    "df.columns"
   ]
  },
  {
   "cell_type": "markdown",
   "id": "fb548f8a",
   "metadata": {},
   "source": [
    "# Exploratory Data Analysis (EDA)"
   ]
  },
  {
   "cell_type": "code",
   "execution_count": 7,
   "id": "e4c97362",
   "metadata": {},
   "outputs": [
    {
     "data": {
      "text/plain": [
       "Sex               0\n",
       "Length            0\n",
       "Diameter          0\n",
       "Height            0\n",
       "Whole weight      0\n",
       "Shucked weight    0\n",
       "Viscera weight    0\n",
       "Shell weight      0\n",
       "Rings             0\n",
       "dtype: int64"
      ]
     },
     "execution_count": 7,
     "metadata": {},
     "output_type": "execute_result"
    }
   ],
   "source": [
    "# Find NA Value\n",
    "df.isna().sum()"
   ]
  },
  {
   "cell_type": "code",
   "execution_count": 8,
   "id": "35727f69",
   "metadata": {},
   "outputs": [
    {
     "data": {
      "text/html": [
       "<div>\n",
       "<style scoped>\n",
       "    .dataframe tbody tr th:only-of-type {\n",
       "        vertical-align: middle;\n",
       "    }\n",
       "\n",
       "    .dataframe tbody tr th {\n",
       "        vertical-align: top;\n",
       "    }\n",
       "\n",
       "    .dataframe thead th {\n",
       "        text-align: right;\n",
       "    }\n",
       "</style>\n",
       "<table border=\"1\" class=\"dataframe\">\n",
       "  <thead>\n",
       "    <tr style=\"text-align: right;\">\n",
       "      <th></th>\n",
       "      <th>Sex</th>\n",
       "      <th>Length</th>\n",
       "      <th>Diameter</th>\n",
       "      <th>Height</th>\n",
       "      <th>Whole weight</th>\n",
       "      <th>Shucked weight</th>\n",
       "      <th>Viscera weight</th>\n",
       "      <th>Shell weight</th>\n",
       "      <th>Rings</th>\n",
       "    </tr>\n",
       "  </thead>\n",
       "  <tbody>\n",
       "    <tr>\n",
       "      <th>0</th>\n",
       "      <td>2</td>\n",
       "      <td>66</td>\n",
       "      <td>56</td>\n",
       "      <td>18</td>\n",
       "      <td>715</td>\n",
       "      <td>417</td>\n",
       "      <td>199</td>\n",
       "      <td>263</td>\n",
       "      <td>14</td>\n",
       "    </tr>\n",
       "    <tr>\n",
       "      <th>1</th>\n",
       "      <td>2</td>\n",
       "      <td>45</td>\n",
       "      <td>36</td>\n",
       "      <td>17</td>\n",
       "      <td>285</td>\n",
       "      <td>178</td>\n",
       "      <td>94</td>\n",
       "      <td>113</td>\n",
       "      <td>6</td>\n",
       "    </tr>\n",
       "    <tr>\n",
       "      <th>2</th>\n",
       "      <td>0</td>\n",
       "      <td>81</td>\n",
       "      <td>67</td>\n",
       "      <td>26</td>\n",
       "      <td>962</td>\n",
       "      <td>480</td>\n",
       "      <td>280</td>\n",
       "      <td>374</td>\n",
       "      <td>8</td>\n",
       "    </tr>\n",
       "    <tr>\n",
       "      <th>3</th>\n",
       "      <td>2</td>\n",
       "      <td>63</td>\n",
       "      <td>56</td>\n",
       "      <td>24</td>\n",
       "      <td>718</td>\n",
       "      <td>400</td>\n",
       "      <td>225</td>\n",
       "      <td>273</td>\n",
       "      <td>9</td>\n",
       "    </tr>\n",
       "    <tr>\n",
       "      <th>4</th>\n",
       "      <td>1</td>\n",
       "      <td>41</td>\n",
       "      <td>34</td>\n",
       "      <td>15</td>\n",
       "      <td>253</td>\n",
       "      <td>159</td>\n",
       "      <td>76</td>\n",
       "      <td>87</td>\n",
       "      <td>6</td>\n",
       "    </tr>\n",
       "    <tr>\n",
       "      <th>...</th>\n",
       "      <td>...</td>\n",
       "      <td>...</td>\n",
       "      <td>...</td>\n",
       "      <td>...</td>\n",
       "      <td>...</td>\n",
       "      <td>...</td>\n",
       "      <td>...</td>\n",
       "      <td>...</td>\n",
       "      <td>...</td>\n",
       "    </tr>\n",
       "    <tr>\n",
       "      <th>4172</th>\n",
       "      <td>0</td>\n",
       "      <td>88</td>\n",
       "      <td>73</td>\n",
       "      <td>32</td>\n",
       "      <td>1289</td>\n",
       "      <td>698</td>\n",
       "      <td>475</td>\n",
       "      <td>442</td>\n",
       "      <td>10</td>\n",
       "    </tr>\n",
       "    <tr>\n",
       "      <th>4173</th>\n",
       "      <td>2</td>\n",
       "      <td>93</td>\n",
       "      <td>71</td>\n",
       "      <td>26</td>\n",
       "      <td>1411</td>\n",
       "      <td>832</td>\n",
       "      <td>426</td>\n",
       "      <td>463</td>\n",
       "      <td>9</td>\n",
       "    </tr>\n",
       "    <tr>\n",
       "      <th>4174</th>\n",
       "      <td>2</td>\n",
       "      <td>95</td>\n",
       "      <td>78</td>\n",
       "      <td>40</td>\n",
       "      <td>1727</td>\n",
       "      <td>994</td>\n",
       "      <td>571</td>\n",
       "      <td>550</td>\n",
       "      <td>8</td>\n",
       "    </tr>\n",
       "    <tr>\n",
       "      <th>4175</th>\n",
       "      <td>0</td>\n",
       "      <td>100</td>\n",
       "      <td>80</td>\n",
       "      <td>29</td>\n",
       "      <td>1610</td>\n",
       "      <td>1005</td>\n",
       "      <td>518</td>\n",
       "      <td>530</td>\n",
       "      <td>9</td>\n",
       "    </tr>\n",
       "    <tr>\n",
       "      <th>4176</th>\n",
       "      <td>2</td>\n",
       "      <td>117</td>\n",
       "      <td>94</td>\n",
       "      <td>38</td>\n",
       "      <td>2348</td>\n",
       "      <td>1461</td>\n",
       "      <td>732</td>\n",
       "      <td>813</td>\n",
       "      <td>11</td>\n",
       "    </tr>\n",
       "  </tbody>\n",
       "</table>\n",
       "<p>4177 rows × 9 columns</p>\n",
       "</div>"
      ],
      "text/plain": [
       "      Sex  Length  Diameter  Height  Whole weight  Shucked weight  \\\n",
       "0       2      66        56      18           715             417   \n",
       "1       2      45        36      17           285             178   \n",
       "2       0      81        67      26           962             480   \n",
       "3       2      63        56      24           718             400   \n",
       "4       1      41        34      15           253             159   \n",
       "...   ...     ...       ...     ...           ...             ...   \n",
       "4172    0      88        73      32          1289             698   \n",
       "4173    2      93        71      26          1411             832   \n",
       "4174    2      95        78      40          1727             994   \n",
       "4175    0     100        80      29          1610            1005   \n",
       "4176    2     117        94      38          2348            1461   \n",
       "\n",
       "      Viscera weight  Shell weight  Rings  \n",
       "0                199           263     14  \n",
       "1                 94           113      6  \n",
       "2                280           374      8  \n",
       "3                225           273      9  \n",
       "4                 76            87      6  \n",
       "...              ...           ...    ...  \n",
       "4172             475           442     10  \n",
       "4173             426           463      9  \n",
       "4174             571           550      8  \n",
       "4175             518           530      9  \n",
       "4176             732           813     11  \n",
       "\n",
       "[4177 rows x 9 columns]"
      ]
     },
     "execution_count": 8,
     "metadata": {},
     "output_type": "execute_result"
    }
   ],
   "source": [
    "# Convert String\n",
    "df = df.apply(LabelEncoder().fit_transform)\n",
    "df"
   ]
  },
  {
   "cell_type": "code",
   "execution_count": 9,
   "id": "b4030dd5",
   "metadata": {},
   "outputs": [
    {
     "data": {
      "text/html": [
       "<div>\n",
       "<style scoped>\n",
       "    .dataframe tbody tr th:only-of-type {\n",
       "        vertical-align: middle;\n",
       "    }\n",
       "\n",
       "    .dataframe tbody tr th {\n",
       "        vertical-align: top;\n",
       "    }\n",
       "\n",
       "    .dataframe thead th {\n",
       "        text-align: right;\n",
       "    }\n",
       "</style>\n",
       "<table border=\"1\" class=\"dataframe\">\n",
       "  <thead>\n",
       "    <tr style=\"text-align: right;\">\n",
       "      <th></th>\n",
       "      <th>Sex</th>\n",
       "      <th>Length</th>\n",
       "      <th>Diameter</th>\n",
       "      <th>Height</th>\n",
       "      <th>Whole weight</th>\n",
       "      <th>Shucked weight</th>\n",
       "      <th>Viscera weight</th>\n",
       "      <th>Shell weight</th>\n",
       "      <th>Rings</th>\n",
       "    </tr>\n",
       "  </thead>\n",
       "  <tbody>\n",
       "    <tr>\n",
       "      <th>Sex</th>\n",
       "      <td>1.000000</td>\n",
       "      <td>-0.036006</td>\n",
       "      <td>-0.038846</td>\n",
       "      <td>-0.040559</td>\n",
       "      <td>-0.026480</td>\n",
       "      <td>-0.009979</td>\n",
       "      <td>-0.035252</td>\n",
       "      <td>-0.035159</td>\n",
       "      <td>-0.034546</td>\n",
       "    </tr>\n",
       "    <tr>\n",
       "      <th>Length</th>\n",
       "      <td>-0.036006</td>\n",
       "      <td>1.000000</td>\n",
       "      <td>0.986815</td>\n",
       "      <td>0.898495</td>\n",
       "      <td>0.945616</td>\n",
       "      <td>0.923686</td>\n",
       "      <td>0.914853</td>\n",
       "      <td>0.925637</td>\n",
       "      <td>0.556666</td>\n",
       "    </tr>\n",
       "    <tr>\n",
       "      <th>Diameter</th>\n",
       "      <td>-0.038846</td>\n",
       "      <td>0.986815</td>\n",
       "      <td>1.000000</td>\n",
       "      <td>0.904767</td>\n",
       "      <td>0.946053</td>\n",
       "      <td>0.919422</td>\n",
       "      <td>0.911692</td>\n",
       "      <td>0.932714</td>\n",
       "      <td>0.574718</td>\n",
       "    </tr>\n",
       "    <tr>\n",
       "      <th>Height</th>\n",
       "      <td>-0.040559</td>\n",
       "      <td>0.898495</td>\n",
       "      <td>0.904767</td>\n",
       "      <td>1.000000</td>\n",
       "      <td>0.900422</td>\n",
       "      <td>0.855481</td>\n",
       "      <td>0.874504</td>\n",
       "      <td>0.906738</td>\n",
       "      <td>0.608239</td>\n",
       "    </tr>\n",
       "    <tr>\n",
       "      <th>Whole weight</th>\n",
       "      <td>-0.026480</td>\n",
       "      <td>0.945616</td>\n",
       "      <td>0.946053</td>\n",
       "      <td>0.900422</td>\n",
       "      <td>1.000000</td>\n",
       "      <td>0.973950</td>\n",
       "      <td>0.966996</td>\n",
       "      <td>0.966973</td>\n",
       "      <td>0.554945</td>\n",
       "    </tr>\n",
       "    <tr>\n",
       "      <th>Shucked weight</th>\n",
       "      <td>-0.009979</td>\n",
       "      <td>0.923686</td>\n",
       "      <td>0.919422</td>\n",
       "      <td>0.855481</td>\n",
       "      <td>0.973950</td>\n",
       "      <td>1.000000</td>\n",
       "      <td>0.940029</td>\n",
       "      <td>0.909816</td>\n",
       "      <td>0.442772</td>\n",
       "    </tr>\n",
       "    <tr>\n",
       "      <th>Viscera weight</th>\n",
       "      <td>-0.035252</td>\n",
       "      <td>0.914853</td>\n",
       "      <td>0.911692</td>\n",
       "      <td>0.874504</td>\n",
       "      <td>0.966996</td>\n",
       "      <td>0.940029</td>\n",
       "      <td>1.000000</td>\n",
       "      <td>0.926469</td>\n",
       "      <td>0.513213</td>\n",
       "    </tr>\n",
       "    <tr>\n",
       "      <th>Shell weight</th>\n",
       "      <td>-0.035159</td>\n",
       "      <td>0.925637</td>\n",
       "      <td>0.932714</td>\n",
       "      <td>0.906738</td>\n",
       "      <td>0.966973</td>\n",
       "      <td>0.909816</td>\n",
       "      <td>0.926469</td>\n",
       "      <td>1.000000</td>\n",
       "      <td>0.630742</td>\n",
       "    </tr>\n",
       "    <tr>\n",
       "      <th>Rings</th>\n",
       "      <td>-0.034546</td>\n",
       "      <td>0.556666</td>\n",
       "      <td>0.574718</td>\n",
       "      <td>0.608239</td>\n",
       "      <td>0.554945</td>\n",
       "      <td>0.442772</td>\n",
       "      <td>0.513213</td>\n",
       "      <td>0.630742</td>\n",
       "      <td>1.000000</td>\n",
       "    </tr>\n",
       "  </tbody>\n",
       "</table>\n",
       "</div>"
      ],
      "text/plain": [
       "                     Sex    Length  Diameter    Height  Whole weight  \\\n",
       "Sex             1.000000 -0.036006 -0.038846 -0.040559     -0.026480   \n",
       "Length         -0.036006  1.000000  0.986815  0.898495      0.945616   \n",
       "Diameter       -0.038846  0.986815  1.000000  0.904767      0.946053   \n",
       "Height         -0.040559  0.898495  0.904767  1.000000      0.900422   \n",
       "Whole weight   -0.026480  0.945616  0.946053  0.900422      1.000000   \n",
       "Shucked weight -0.009979  0.923686  0.919422  0.855481      0.973950   \n",
       "Viscera weight -0.035252  0.914853  0.911692  0.874504      0.966996   \n",
       "Shell weight   -0.035159  0.925637  0.932714  0.906738      0.966973   \n",
       "Rings          -0.034546  0.556666  0.574718  0.608239      0.554945   \n",
       "\n",
       "                Shucked weight  Viscera weight  Shell weight     Rings  \n",
       "Sex                  -0.009979       -0.035252     -0.035159 -0.034546  \n",
       "Length                0.923686        0.914853      0.925637  0.556666  \n",
       "Diameter              0.919422        0.911692      0.932714  0.574718  \n",
       "Height                0.855481        0.874504      0.906738  0.608239  \n",
       "Whole weight          0.973950        0.966996      0.966973  0.554945  \n",
       "Shucked weight        1.000000        0.940029      0.909816  0.442772  \n",
       "Viscera weight        0.940029        1.000000      0.926469  0.513213  \n",
       "Shell weight          0.909816        0.926469      1.000000  0.630742  \n",
       "Rings                 0.442772        0.513213      0.630742  1.000000  "
      ]
     },
     "execution_count": 9,
     "metadata": {},
     "output_type": "execute_result"
    }
   ],
   "source": [
    "# To Check Correlation\n",
    "df.corr()"
   ]
  },
  {
   "cell_type": "markdown",
   "id": "25f15302",
   "metadata": {},
   "source": [
    "# Visulaization"
   ]
  },
  {
   "cell_type": "code",
   "execution_count": 10,
   "id": "5b76d563",
   "metadata": {},
   "outputs": [
    {
     "data": {
      "text/plain": [
       "<AxesSubplot:>"
      ]
     },
     "execution_count": 10,
     "metadata": {},
     "output_type": "execute_result"
    },
    {
     "data": {
      "image/png": "[encoded data removed]",
      "text/plain": [
       "<Figure size 720x720 with 2 Axes>"
      ]
     },
     "metadata": {
      "needs_background": "light"
     },
     "output_type": "display_data"
    }
   ],
   "source": [
    "# Correlation in Visulaization \n",
    "plt.figure(figsize=(10,10))\n",
    "sns.heatmap(df.corr(),cmap='YlOrRd_r',annot=True)"
   ]
  },
  {
   "cell_type": "code",
   "execution_count": 11,
   "id": "c942fc21",
   "metadata": {},
   "outputs": [
    {
     "data": {
      "text/plain": [
       "<seaborn.axisgrid.PairGrid at 0x21abbc12220>"
      ]
     },
     "execution_count": 11,
     "metadata": {},
     "output_type": "execute_result"
    },
    {
     "data": {
      "image/png": "[encoded data removed]",
      "text/plain": [
       "<Figure size 1620x1620 with 90 Axes>"
      ]
     },
     "metadata": {
      "needs_background": "light"
     },
     "output_type": "display_data"
    }
   ],
   "source": [
    "sns.pairplot(df.corr())"
   ]
  },
  {
   "cell_type": "code",
   "execution_count": 12,
   "id": "ac8f135a",
   "metadata": {},
   "outputs": [
    {
     "data": {
      "image/png": "[encoded data removed]",
      "text/plain": [
       "<Figure size 1440x1440 with 9 Axes>"
      ]
     },
     "metadata": {
      "needs_background": "light"
     },
     "output_type": "display_data"
    }
   ],
   "source": [
    "plt.figure(figsize=[20,20])\n",
    "for i, column in enumerate(df.columns):\n",
    "    plt.subplot(10,3,i+1)\n",
    "    sns.distplot(df[column],kde=True)"
   ]
  },
  {
   "cell_type": "code",
   "execution_count": 13,
   "id": "257fecff",
   "metadata": {},
   "outputs": [
    {
     "data": {
      "text/plain": [
       "<AxesSubplot:xlabel='Rings', ylabel='count'>"
      ]
     },
     "execution_count": 13,
     "metadata": {},
     "output_type": "execute_result"
    },
    {
     "data": {
      "image/png": "[encoded data removed]",
      "text/plain": [
       "<Figure size 432x288 with 1 Axes>"
      ]
     },
     "metadata": {
      "needs_background": "light"
     },
     "output_type": "display_data"
    }
   ],
   "source": [
    "sns.countplot(df['Rings'])"
   ]
  },
  {
   "cell_type": "code",
   "execution_count": 14,
   "id": "3c924ce6",
   "metadata": {},
   "outputs": [
    {
     "data": {
      "image/png": "[encoded data removed]",
      "text/plain": [
       "<Figure size 1440x1440 with 9 Axes>"
      ]
     },
     "metadata": {
      "needs_background": "light"
     },
     "output_type": "display_data"
    }
   ],
   "source": [
    "plt.figure(figsize=[20,20])\n",
    "for i,column in enumerate(df.columns):\n",
    "    plt.subplot(10,3,i+1)\n",
    "    sns.violinplot(data=df,x='Rings',y=column)"
   ]
  },
  {
   "cell_type": "markdown",
   "id": "e15c2ca6",
   "metadata": {},
   "source": [
    "# Find the Outliers and Remove"
   ]
  },
  {
   "cell_type": "code",
   "execution_count": 15,
   "id": "39e77060",
   "metadata": {},
   "outputs": [
    {
     "data": {
      "text/plain": [
       "Sex                  AxesSubplot(0.125,0.536818;0.110714x0.343182)\n",
       "Length            AxesSubplot(0.257857,0.536818;0.110714x0.343182)\n",
       "Diameter          AxesSubplot(0.390714,0.536818;0.110714x0.343182)\n",
       "Height            AxesSubplot(0.523571,0.536818;0.110714x0.343182)\n",
       "Whole weight      AxesSubplot(0.656429,0.536818;0.110714x0.343182)\n",
       "Shucked weight    AxesSubplot(0.789286,0.536818;0.110714x0.343182)\n",
       "Viscera weight          AxesSubplot(0.125,0.125;0.110714x0.343182)\n",
       "Shell weight         AxesSubplot(0.257857,0.125;0.110714x0.343182)\n",
       "Rings                AxesSubplot(0.390714,0.125;0.110714x0.343182)\n",
       "dtype: object"
      ]
     },
     "execution_count": 15,
     "metadata": {},
     "output_type": "execute_result"
    },
    {
     "data": {
      "image/png": "[encoded data removed]",
      "text/plain": [
       "<Figure size 720x720 with 12 Axes>"
      ]
     },
     "metadata": {
      "needs_background": "light"
     },
     "output_type": "display_data"
    }
   ],
   "source": [
    "df.plot(kind='box',subplots=True, layout=(2,6),figsize=(10,10))"
   ]
  },
  {
   "cell_type": "code",
   "execution_count": 16,
   "id": "62931908",
   "metadata": {},
   "outputs": [
    {
     "data": {
      "text/html": [
       "<div>\n",
       "<style scoped>\n",
       "    .dataframe tbody tr th:only-of-type {\n",
       "        vertical-align: middle;\n",
       "    }\n",
       "\n",
       "    .dataframe tbody tr th {\n",
       "        vertical-align: top;\n",
       "    }\n",
       "\n",
       "    .dataframe thead th {\n",
       "        text-align: right;\n",
       "    }\n",
       "</style>\n",
       "<table border=\"1\" class=\"dataframe\">\n",
       "  <thead>\n",
       "    <tr style=\"text-align: right;\">\n",
       "      <th></th>\n",
       "      <th>Sex</th>\n",
       "      <th>Length</th>\n",
       "      <th>Diameter</th>\n",
       "      <th>Height</th>\n",
       "      <th>Whole weight</th>\n",
       "      <th>Shucked weight</th>\n",
       "      <th>Viscera weight</th>\n",
       "      <th>Shell weight</th>\n",
       "    </tr>\n",
       "  </thead>\n",
       "  <tbody>\n",
       "    <tr>\n",
       "      <th>0</th>\n",
       "      <td>2</td>\n",
       "      <td>66</td>\n",
       "      <td>56</td>\n",
       "      <td>18</td>\n",
       "      <td>715</td>\n",
       "      <td>417</td>\n",
       "      <td>199</td>\n",
       "      <td>263</td>\n",
       "    </tr>\n",
       "    <tr>\n",
       "      <th>1</th>\n",
       "      <td>2</td>\n",
       "      <td>45</td>\n",
       "      <td>36</td>\n",
       "      <td>17</td>\n",
       "      <td>285</td>\n",
       "      <td>178</td>\n",
       "      <td>94</td>\n",
       "      <td>113</td>\n",
       "    </tr>\n",
       "    <tr>\n",
       "      <th>2</th>\n",
       "      <td>0</td>\n",
       "      <td>81</td>\n",
       "      <td>67</td>\n",
       "      <td>26</td>\n",
       "      <td>962</td>\n",
       "      <td>480</td>\n",
       "      <td>280</td>\n",
       "      <td>374</td>\n",
       "    </tr>\n",
       "    <tr>\n",
       "      <th>3</th>\n",
       "      <td>2</td>\n",
       "      <td>63</td>\n",
       "      <td>56</td>\n",
       "      <td>24</td>\n",
       "      <td>718</td>\n",
       "      <td>400</td>\n",
       "      <td>225</td>\n",
       "      <td>273</td>\n",
       "    </tr>\n",
       "    <tr>\n",
       "      <th>4</th>\n",
       "      <td>1</td>\n",
       "      <td>41</td>\n",
       "      <td>34</td>\n",
       "      <td>15</td>\n",
       "      <td>253</td>\n",
       "      <td>159</td>\n",
       "      <td>76</td>\n",
       "      <td>87</td>\n",
       "    </tr>\n",
       "    <tr>\n",
       "      <th>...</th>\n",
       "      <td>...</td>\n",
       "      <td>...</td>\n",
       "      <td>...</td>\n",
       "      <td>...</td>\n",
       "      <td>...</td>\n",
       "      <td>...</td>\n",
       "      <td>...</td>\n",
       "      <td>...</td>\n",
       "    </tr>\n",
       "    <tr>\n",
       "      <th>4172</th>\n",
       "      <td>0</td>\n",
       "      <td>88</td>\n",
       "      <td>73</td>\n",
       "      <td>32</td>\n",
       "      <td>1289</td>\n",
       "      <td>698</td>\n",
       "      <td>475</td>\n",
       "      <td>442</td>\n",
       "    </tr>\n",
       "    <tr>\n",
       "      <th>4173</th>\n",
       "      <td>2</td>\n",
       "      <td>93</td>\n",
       "      <td>71</td>\n",
       "      <td>26</td>\n",
       "      <td>1411</td>\n",
       "      <td>832</td>\n",
       "      <td>426</td>\n",
       "      <td>463</td>\n",
       "    </tr>\n",
       "    <tr>\n",
       "      <th>4174</th>\n",
       "      <td>2</td>\n",
       "      <td>95</td>\n",
       "      <td>78</td>\n",
       "      <td>40</td>\n",
       "      <td>1727</td>\n",
       "      <td>994</td>\n",
       "      <td>571</td>\n",
       "      <td>550</td>\n",
       "    </tr>\n",
       "    <tr>\n",
       "      <th>4175</th>\n",
       "      <td>0</td>\n",
       "      <td>100</td>\n",
       "      <td>80</td>\n",
       "      <td>29</td>\n",
       "      <td>1610</td>\n",
       "      <td>1005</td>\n",
       "      <td>518</td>\n",
       "      <td>530</td>\n",
       "    </tr>\n",
       "    <tr>\n",
       "      <th>4176</th>\n",
       "      <td>2</td>\n",
       "      <td>117</td>\n",
       "      <td>94</td>\n",
       "      <td>38</td>\n",
       "      <td>2348</td>\n",
       "      <td>1461</td>\n",
       "      <td>732</td>\n",
       "      <td>813</td>\n",
       "    </tr>\n",
       "  </tbody>\n",
       "</table>\n",
       "<p>4177 rows × 8 columns</p>\n",
       "</div>"
      ],
      "text/plain": [
       "      Sex  Length  Diameter  Height  Whole weight  Shucked weight  \\\n",
       "0       2      66        56      18           715             417   \n",
       "1       2      45        36      17           285             178   \n",
       "2       0      81        67      26           962             480   \n",
       "3       2      63        56      24           718             400   \n",
       "4       1      41        34      15           253             159   \n",
       "...   ...     ...       ...     ...           ...             ...   \n",
       "4172    0      88        73      32          1289             698   \n",
       "4173    2      93        71      26          1411             832   \n",
       "4174    2      95        78      40          1727             994   \n",
       "4175    0     100        80      29          1610            1005   \n",
       "4176    2     117        94      38          2348            1461   \n",
       "\n",
       "      Viscera weight  Shell weight  \n",
       "0                199           263  \n",
       "1                 94           113  \n",
       "2                280           374  \n",
       "3                225           273  \n",
       "4                 76            87  \n",
       "...              ...           ...  \n",
       "4172             475           442  \n",
       "4173             426           463  \n",
       "4174             571           550  \n",
       "4175             518           530  \n",
       "4176             732           813  \n",
       "\n",
       "[4177 rows x 8 columns]"
      ]
     },
     "execution_count": 16,
     "metadata": {},
     "output_type": "execute_result"
    }
   ],
   "source": [
    "X = df.iloc[:,:-1]\n",
    "X"
   ]
  },
  {
   "cell_type": "code",
   "execution_count": 17,
   "id": "1d9c26d7",
   "metadata": {},
   "outputs": [
    {
     "data": {
      "text/plain": [
       "array([[1.15198011, 0.57514482, 0.43232856, ..., 0.62848601, 0.74055949,\n",
       "        0.65546208],\n",
       "       [1.15198011, 1.45029839, 1.44044354, ..., 1.24994198, 1.24207391,\n",
       "        1.30958261],\n",
       "       [1.28068972, 0.04996488, 0.12213469, ..., 0.46467125, 0.35367695,\n",
       "        0.17141288],\n",
       "       ...,\n",
       "       [1.15198011, 0.63340059, 0.67659793, ..., 0.87184913, 1.03623442,\n",
       "        0.59608854],\n",
       "       [1.28068972, 0.84177049, 0.77740943, ..., 0.9004517 , 0.78308905,\n",
       "        0.50887247],\n",
       "       [1.15198011, 1.55022814, 1.48308992, ..., 2.0861585 , 1.80522318,\n",
       "        1.74297987]])"
      ]
     },
     "execution_count": 17,
     "metadata": {},
     "output_type": "execute_result"
    }
   ],
   "source": [
    "# Remove Outlire with z-score Method\n",
    "z_score = np.abs(stats.zscore(X))\n",
    "z_score"
   ]
  },
  {
   "cell_type": "code",
   "execution_count": 18,
   "id": "f10acf16",
   "metadata": {},
   "outputs": [
    {
     "name": "stdout",
     "output_type": "stream",
     "text": [
      "(array([ 236,  236,  236,  237,  237,  238,  238,  239,  526,  526,  694,\n",
      "        694,  696,  696,  719,  719,  720,  720, 1174, 1257, 1429, 1429,\n",
      "       1986, 1987, 1987, 2051, 2114, 2114, 2169, 2381, 3837, 3899, 3899,\n",
      "       3902, 3902, 3996], dtype=int64), array([1, 2, 3, 1, 2, 1, 2, 1, 1, 2, 2, 3, 1, 2, 1, 2, 1, 2, 3, 3, 1, 2,\n",
      "       1, 1, 2, 3, 1, 2, 3, 1, 2, 1, 2, 1, 3, 3], dtype=int64))\n"
     ]
    }
   ],
   "source": [
    "threshold = 3\n",
    "print(np.where(z_score>3))"
   ]
  },
  {
   "cell_type": "code",
   "execution_count": 19,
   "id": "ea0e994d",
   "metadata": {},
   "outputs": [
    {
     "data": {
      "text/plain": [
       "(4177, 9)"
      ]
     },
     "execution_count": 19,
     "metadata": {},
     "output_type": "execute_result"
    }
   ],
   "source": [
    "df.shape"
   ]
  },
  {
   "cell_type": "code",
   "execution_count": 20,
   "id": "9e35eeae",
   "metadata": {},
   "outputs": [
    {
     "data": {
      "text/html": [
       "<div>\n",
       "<style scoped>\n",
       "    .dataframe tbody tr th:only-of-type {\n",
       "        vertical-align: middle;\n",
       "    }\n",
       "\n",
       "    .dataframe tbody tr th {\n",
       "        vertical-align: top;\n",
       "    }\n",
       "\n",
       "    .dataframe thead th {\n",
       "        text-align: right;\n",
       "    }\n",
       "</style>\n",
       "<table border=\"1\" class=\"dataframe\">\n",
       "  <thead>\n",
       "    <tr style=\"text-align: right;\">\n",
       "      <th></th>\n",
       "      <th>Sex</th>\n",
       "      <th>Length</th>\n",
       "      <th>Diameter</th>\n",
       "      <th>Height</th>\n",
       "      <th>Whole weight</th>\n",
       "      <th>Shucked weight</th>\n",
       "      <th>Viscera weight</th>\n",
       "      <th>Shell weight</th>\n",
       "      <th>Rings</th>\n",
       "    </tr>\n",
       "  </thead>\n",
       "  <tbody>\n",
       "    <tr>\n",
       "      <th>0</th>\n",
       "      <td>2</td>\n",
       "      <td>66</td>\n",
       "      <td>56</td>\n",
       "      <td>18</td>\n",
       "      <td>715</td>\n",
       "      <td>417</td>\n",
       "      <td>199</td>\n",
       "      <td>263</td>\n",
       "      <td>14</td>\n",
       "    </tr>\n",
       "    <tr>\n",
       "      <th>1</th>\n",
       "      <td>2</td>\n",
       "      <td>45</td>\n",
       "      <td>36</td>\n",
       "      <td>17</td>\n",
       "      <td>285</td>\n",
       "      <td>178</td>\n",
       "      <td>94</td>\n",
       "      <td>113</td>\n",
       "      <td>6</td>\n",
       "    </tr>\n",
       "    <tr>\n",
       "      <th>2</th>\n",
       "      <td>0</td>\n",
       "      <td>81</td>\n",
       "      <td>67</td>\n",
       "      <td>26</td>\n",
       "      <td>962</td>\n",
       "      <td>480</td>\n",
       "      <td>280</td>\n",
       "      <td>374</td>\n",
       "      <td>8</td>\n",
       "    </tr>\n",
       "    <tr>\n",
       "      <th>3</th>\n",
       "      <td>2</td>\n",
       "      <td>63</td>\n",
       "      <td>56</td>\n",
       "      <td>24</td>\n",
       "      <td>718</td>\n",
       "      <td>400</td>\n",
       "      <td>225</td>\n",
       "      <td>273</td>\n",
       "      <td>9</td>\n",
       "    </tr>\n",
       "    <tr>\n",
       "      <th>4</th>\n",
       "      <td>1</td>\n",
       "      <td>41</td>\n",
       "      <td>34</td>\n",
       "      <td>15</td>\n",
       "      <td>253</td>\n",
       "      <td>159</td>\n",
       "      <td>76</td>\n",
       "      <td>87</td>\n",
       "      <td>6</td>\n",
       "    </tr>\n",
       "    <tr>\n",
       "      <th>...</th>\n",
       "      <td>...</td>\n",
       "      <td>...</td>\n",
       "      <td>...</td>\n",
       "      <td>...</td>\n",
       "      <td>...</td>\n",
       "      <td>...</td>\n",
       "      <td>...</td>\n",
       "      <td>...</td>\n",
       "      <td>...</td>\n",
       "    </tr>\n",
       "    <tr>\n",
       "      <th>4172</th>\n",
       "      <td>0</td>\n",
       "      <td>88</td>\n",
       "      <td>73</td>\n",
       "      <td>32</td>\n",
       "      <td>1289</td>\n",
       "      <td>698</td>\n",
       "      <td>475</td>\n",
       "      <td>442</td>\n",
       "      <td>10</td>\n",
       "    </tr>\n",
       "    <tr>\n",
       "      <th>4173</th>\n",
       "      <td>2</td>\n",
       "      <td>93</td>\n",
       "      <td>71</td>\n",
       "      <td>26</td>\n",
       "      <td>1411</td>\n",
       "      <td>832</td>\n",
       "      <td>426</td>\n",
       "      <td>463</td>\n",
       "      <td>9</td>\n",
       "    </tr>\n",
       "    <tr>\n",
       "      <th>4174</th>\n",
       "      <td>2</td>\n",
       "      <td>95</td>\n",
       "      <td>78</td>\n",
       "      <td>40</td>\n",
       "      <td>1727</td>\n",
       "      <td>994</td>\n",
       "      <td>571</td>\n",
       "      <td>550</td>\n",
       "      <td>8</td>\n",
       "    </tr>\n",
       "    <tr>\n",
       "      <th>4175</th>\n",
       "      <td>0</td>\n",
       "      <td>100</td>\n",
       "      <td>80</td>\n",
       "      <td>29</td>\n",
       "      <td>1610</td>\n",
       "      <td>1005</td>\n",
       "      <td>518</td>\n",
       "      <td>530</td>\n",
       "      <td>9</td>\n",
       "    </tr>\n",
       "    <tr>\n",
       "      <th>4176</th>\n",
       "      <td>2</td>\n",
       "      <td>117</td>\n",
       "      <td>94</td>\n",
       "      <td>38</td>\n",
       "      <td>2348</td>\n",
       "      <td>1461</td>\n",
       "      <td>732</td>\n",
       "      <td>813</td>\n",
       "      <td>11</td>\n",
       "    </tr>\n",
       "  </tbody>\n",
       "</table>\n",
       "<p>4155 rows × 9 columns</p>\n",
       "</div>"
      ],
      "text/plain": [
       "      Sex  Length  Diameter  Height  Whole weight  Shucked weight  \\\n",
       "0       2      66        56      18           715             417   \n",
       "1       2      45        36      17           285             178   \n",
       "2       0      81        67      26           962             480   \n",
       "3       2      63        56      24           718             400   \n",
       "4       1      41        34      15           253             159   \n",
       "...   ...     ...       ...     ...           ...             ...   \n",
       "4172    0      88        73      32          1289             698   \n",
       "4173    2      93        71      26          1411             832   \n",
       "4174    2      95        78      40          1727             994   \n",
       "4175    0     100        80      29          1610            1005   \n",
       "4176    2     117        94      38          2348            1461   \n",
       "\n",
       "      Viscera weight  Shell weight  Rings  \n",
       "0                199           263     14  \n",
       "1                 94           113      6  \n",
       "2                280           374      8  \n",
       "3                225           273      9  \n",
       "4                 76            87      6  \n",
       "...              ...           ...    ...  \n",
       "4172             475           442     10  \n",
       "4173             426           463      9  \n",
       "4174             571           550      8  \n",
       "4175             518           530      9  \n",
       "4176             732           813     11  \n",
       "\n",
       "[4155 rows x 9 columns]"
      ]
     },
     "execution_count": 20,
     "metadata": {},
     "output_type": "execute_result"
    }
   ],
   "source": [
    "# Removing Outliers\n",
    "df = df[(z_score<3).all(axis=1)]\n",
    "df"
   ]
  },
  {
   "cell_type": "code",
   "execution_count": 21,
   "id": "e296c1df",
   "metadata": {},
   "outputs": [
    {
     "data": {
      "text/plain": [
       "8     688\n",
       "9     634\n",
       "7     566\n",
       "10    487\n",
       "6     391\n",
       "11    267\n",
       "5     258\n",
       "12    203\n",
       "13    126\n",
       "4     113\n",
       "14    103\n",
       "15     67\n",
       "16     58\n",
       "3      48\n",
       "17     42\n",
       "18     32\n",
       "19     26\n",
       "20     14\n",
       "2      10\n",
       "22      9\n",
       "21      6\n",
       "26      2\n",
       "23      2\n",
       "25      1\n",
       "24      1\n",
       "27      1\n",
       "Name: Rings, dtype: int64"
      ]
     },
     "execution_count": 21,
     "metadata": {},
     "output_type": "execute_result"
    }
   ],
   "source": [
    "df.iloc[:,-1].value_counts()"
   ]
  },
  {
   "cell_type": "markdown",
   "id": "58a68b8e",
   "metadata": {},
   "source": [
    "# Spliting Features and Target column"
   ]
  },
  {
   "cell_type": "code",
   "execution_count": 22,
   "id": "6959f1c0",
   "metadata": {},
   "outputs": [
    {
     "data": {
      "text/html": [
       "<div>\n",
       "<style scoped>\n",
       "    .dataframe tbody tr th:only-of-type {\n",
       "        vertical-align: middle;\n",
       "    }\n",
       "\n",
       "    .dataframe tbody tr th {\n",
       "        vertical-align: top;\n",
       "    }\n",
       "\n",
       "    .dataframe thead th {\n",
       "        text-align: right;\n",
       "    }\n",
       "</style>\n",
       "<table border=\"1\" class=\"dataframe\">\n",
       "  <thead>\n",
       "    <tr style=\"text-align: right;\">\n",
       "      <th></th>\n",
       "      <th>Sex</th>\n",
       "      <th>Length</th>\n",
       "      <th>Diameter</th>\n",
       "      <th>Height</th>\n",
       "      <th>Whole weight</th>\n",
       "      <th>Shucked weight</th>\n",
       "      <th>Viscera weight</th>\n",
       "      <th>Shell weight</th>\n",
       "    </tr>\n",
       "  </thead>\n",
       "  <tbody>\n",
       "    <tr>\n",
       "      <th>0</th>\n",
       "      <td>2</td>\n",
       "      <td>66</td>\n",
       "      <td>56</td>\n",
       "      <td>18</td>\n",
       "      <td>715</td>\n",
       "      <td>417</td>\n",
       "      <td>199</td>\n",
       "      <td>263</td>\n",
       "    </tr>\n",
       "    <tr>\n",
       "      <th>1</th>\n",
       "      <td>2</td>\n",
       "      <td>45</td>\n",
       "      <td>36</td>\n",
       "      <td>17</td>\n",
       "      <td>285</td>\n",
       "      <td>178</td>\n",
       "      <td>94</td>\n",
       "      <td>113</td>\n",
       "    </tr>\n",
       "    <tr>\n",
       "      <th>2</th>\n",
       "      <td>0</td>\n",
       "      <td>81</td>\n",
       "      <td>67</td>\n",
       "      <td>26</td>\n",
       "      <td>962</td>\n",
       "      <td>480</td>\n",
       "      <td>280</td>\n",
       "      <td>374</td>\n",
       "    </tr>\n",
       "    <tr>\n",
       "      <th>3</th>\n",
       "      <td>2</td>\n",
       "      <td>63</td>\n",
       "      <td>56</td>\n",
       "      <td>24</td>\n",
       "      <td>718</td>\n",
       "      <td>400</td>\n",
       "      <td>225</td>\n",
       "      <td>273</td>\n",
       "    </tr>\n",
       "    <tr>\n",
       "      <th>4</th>\n",
       "      <td>1</td>\n",
       "      <td>41</td>\n",
       "      <td>34</td>\n",
       "      <td>15</td>\n",
       "      <td>253</td>\n",
       "      <td>159</td>\n",
       "      <td>76</td>\n",
       "      <td>87</td>\n",
       "    </tr>\n",
       "    <tr>\n",
       "      <th>...</th>\n",
       "      <td>...</td>\n",
       "      <td>...</td>\n",
       "      <td>...</td>\n",
       "      <td>...</td>\n",
       "      <td>...</td>\n",
       "      <td>...</td>\n",
       "      <td>...</td>\n",
       "      <td>...</td>\n",
       "    </tr>\n",
       "    <tr>\n",
       "      <th>4172</th>\n",
       "      <td>0</td>\n",
       "      <td>88</td>\n",
       "      <td>73</td>\n",
       "      <td>32</td>\n",
       "      <td>1289</td>\n",
       "      <td>698</td>\n",
       "      <td>475</td>\n",
       "      <td>442</td>\n",
       "    </tr>\n",
       "    <tr>\n",
       "      <th>4173</th>\n",
       "      <td>2</td>\n",
       "      <td>93</td>\n",
       "      <td>71</td>\n",
       "      <td>26</td>\n",
       "      <td>1411</td>\n",
       "      <td>832</td>\n",
       "      <td>426</td>\n",
       "      <td>463</td>\n",
       "    </tr>\n",
       "    <tr>\n",
       "      <th>4174</th>\n",
       "      <td>2</td>\n",
       "      <td>95</td>\n",
       "      <td>78</td>\n",
       "      <td>40</td>\n",
       "      <td>1727</td>\n",
       "      <td>994</td>\n",
       "      <td>571</td>\n",
       "      <td>550</td>\n",
       "    </tr>\n",
       "    <tr>\n",
       "      <th>4175</th>\n",
       "      <td>0</td>\n",
       "      <td>100</td>\n",
       "      <td>80</td>\n",
       "      <td>29</td>\n",
       "      <td>1610</td>\n",
       "      <td>1005</td>\n",
       "      <td>518</td>\n",
       "      <td>530</td>\n",
       "    </tr>\n",
       "    <tr>\n",
       "      <th>4176</th>\n",
       "      <td>2</td>\n",
       "      <td>117</td>\n",
       "      <td>94</td>\n",
       "      <td>38</td>\n",
       "      <td>2348</td>\n",
       "      <td>1461</td>\n",
       "      <td>732</td>\n",
       "      <td>813</td>\n",
       "    </tr>\n",
       "  </tbody>\n",
       "</table>\n",
       "<p>4155 rows × 8 columns</p>\n",
       "</div>"
      ],
      "text/plain": [
       "      Sex  Length  Diameter  Height  Whole weight  Shucked weight  \\\n",
       "0       2      66        56      18           715             417   \n",
       "1       2      45        36      17           285             178   \n",
       "2       0      81        67      26           962             480   \n",
       "3       2      63        56      24           718             400   \n",
       "4       1      41        34      15           253             159   \n",
       "...   ...     ...       ...     ...           ...             ...   \n",
       "4172    0      88        73      32          1289             698   \n",
       "4173    2      93        71      26          1411             832   \n",
       "4174    2      95        78      40          1727             994   \n",
       "4175    0     100        80      29          1610            1005   \n",
       "4176    2     117        94      38          2348            1461   \n",
       "\n",
       "      Viscera weight  Shell weight  \n",
       "0                199           263  \n",
       "1                 94           113  \n",
       "2                280           374  \n",
       "3                225           273  \n",
       "4                 76            87  \n",
       "...              ...           ...  \n",
       "4172             475           442  \n",
       "4173             426           463  \n",
       "4174             571           550  \n",
       "4175             518           530  \n",
       "4176             732           813  \n",
       "\n",
       "[4155 rows x 8 columns]"
      ]
     },
     "execution_count": 22,
     "metadata": {},
     "output_type": "execute_result"
    }
   ],
   "source": [
    "X = df.iloc[:,:-1]\n",
    "X"
   ]
  },
  {
   "cell_type": "code",
   "execution_count": 23,
   "id": "73e92a6f",
   "metadata": {},
   "outputs": [
    {
     "data": {
      "text/plain": [
       "0       14\n",
       "1        6\n",
       "2        8\n",
       "3        9\n",
       "4        6\n",
       "        ..\n",
       "4172    10\n",
       "4173     9\n",
       "4174     8\n",
       "4175     9\n",
       "4176    11\n",
       "Name: Rings, Length: 4155, dtype: int64"
      ]
     },
     "execution_count": 23,
     "metadata": {},
     "output_type": "execute_result"
    }
   ],
   "source": [
    "y = df.iloc[:,-1]\n",
    "y"
   ]
  },
  {
   "cell_type": "code",
   "execution_count": 24,
   "id": "872afde2",
   "metadata": {},
   "outputs": [
    {
     "data": {
      "text/plain": [
       "8     688\n",
       "9     634\n",
       "7     566\n",
       "10    487\n",
       "6     391\n",
       "11    267\n",
       "5     258\n",
       "12    203\n",
       "13    126\n",
       "4     113\n",
       "14    103\n",
       "15     67\n",
       "16     58\n",
       "3      48\n",
       "17     42\n",
       "18     32\n",
       "19     26\n",
       "20     14\n",
       "2      10\n",
       "22      9\n",
       "21      6\n",
       "26      2\n",
       "23      2\n",
       "25      1\n",
       "24      1\n",
       "27      1\n",
       "Name: Rings, dtype: int64"
      ]
     },
     "execution_count": 24,
     "metadata": {},
     "output_type": "execute_result"
    }
   ],
   "source": [
    "y.value_counts()"
   ]
  },
  {
   "cell_type": "markdown",
   "id": "31cb3d80",
   "metadata": {},
   "source": [
    "# Checking for Variance Inflation Factor (VIF) and Remove"
   ]
  },
  {
   "cell_type": "code",
   "execution_count": 25,
   "id": "dec81129",
   "metadata": {},
   "outputs": [
    {
     "data": {
      "text/html": [
       "<div>\n",
       "<style scoped>\n",
       "    .dataframe tbody tr th:only-of-type {\n",
       "        vertical-align: middle;\n",
       "    }\n",
       "\n",
       "    .dataframe tbody tr th {\n",
       "        vertical-align: top;\n",
       "    }\n",
       "\n",
       "    .dataframe thead th {\n",
       "        text-align: right;\n",
       "    }\n",
       "</style>\n",
       "<table border=\"1\" class=\"dataframe\">\n",
       "  <thead>\n",
       "    <tr style=\"text-align: right;\">\n",
       "      <th></th>\n",
       "      <th>VIF</th>\n",
       "      <th>columns</th>\n",
       "    </tr>\n",
       "  </thead>\n",
       "  <tbody>\n",
       "    <tr>\n",
       "      <th>0</th>\n",
       "      <td>2.520395</td>\n",
       "      <td>Sex</td>\n",
       "    </tr>\n",
       "    <tr>\n",
       "      <th>6</th>\n",
       "      <td>62.363698</td>\n",
       "      <td>Viscera weight</td>\n",
       "    </tr>\n",
       "    <tr>\n",
       "      <th>3</th>\n",
       "      <td>74.847661</td>\n",
       "      <td>Height</td>\n",
       "    </tr>\n",
       "    <tr>\n",
       "      <th>7</th>\n",
       "      <td>108.151582</td>\n",
       "      <td>Shell weight</td>\n",
       "    </tr>\n",
       "    <tr>\n",
       "      <th>5</th>\n",
       "      <td>116.533950</td>\n",
       "      <td>Shucked weight</td>\n",
       "    </tr>\n",
       "    <tr>\n",
       "      <th>4</th>\n",
       "      <td>424.621264</td>\n",
       "      <td>Whole weight</td>\n",
       "    </tr>\n",
       "    <tr>\n",
       "      <th>1</th>\n",
       "      <td>474.168706</td>\n",
       "      <td>Length</td>\n",
       "    </tr>\n",
       "    <tr>\n",
       "      <th>2</th>\n",
       "      <td>500.716448</td>\n",
       "      <td>Diameter</td>\n",
       "    </tr>\n",
       "  </tbody>\n",
       "</table>\n",
       "</div>"
      ],
      "text/plain": [
       "          VIF         columns\n",
       "0    2.520395             Sex\n",
       "6   62.363698  Viscera weight\n",
       "3   74.847661          Height\n",
       "7  108.151582    Shell weight\n",
       "5  116.533950  Shucked weight\n",
       "4  424.621264    Whole weight\n",
       "1  474.168706          Length\n",
       "2  500.716448        Diameter"
      ]
     },
     "execution_count": 25,
     "metadata": {},
     "output_type": "execute_result"
    }
   ],
   "source": [
    "df_info = pd.DataFrame()\n",
    "df_info['VIF'] = [variance_inflation_factor(X.values,i)for i in range(X.shape[1])]\n",
    "df_info['columns'] = X.columns\n",
    "df_info.sort_values('VIF')"
   ]
  },
  {
   "cell_type": "code",
   "execution_count": 26,
   "id": "d99566d2",
   "metadata": {},
   "outputs": [
    {
     "data": {
      "text/plain": [
       "Sex               0\n",
       "Length            0\n",
       "Diameter          0\n",
       "Height            0\n",
       "Whole weight      0\n",
       "Shucked weight    0\n",
       "Viscera weight    0\n",
       "Shell weight      0\n",
       "dtype: int64"
      ]
     },
     "execution_count": 26,
     "metadata": {},
     "output_type": "execute_result"
    }
   ],
   "source": [
    "X.isna().sum()"
   ]
  },
  {
   "cell_type": "code",
   "execution_count": 27,
   "id": "972ecbca",
   "metadata": {},
   "outputs": [
    {
     "data": {
      "text/html": [
       "<div>\n",
       "<style scoped>\n",
       "    .dataframe tbody tr th:only-of-type {\n",
       "        vertical-align: middle;\n",
       "    }\n",
       "\n",
       "    .dataframe tbody tr th {\n",
       "        vertical-align: top;\n",
       "    }\n",
       "\n",
       "    .dataframe thead th {\n",
       "        text-align: right;\n",
       "    }\n",
       "</style>\n",
       "<table border=\"1\" class=\"dataframe\">\n",
       "  <thead>\n",
       "    <tr style=\"text-align: right;\">\n",
       "      <th></th>\n",
       "      <th>VIF</th>\n",
       "      <th>column</th>\n",
       "    </tr>\n",
       "  </thead>\n",
       "  <tbody>\n",
       "    <tr>\n",
       "      <th>0</th>\n",
       "      <td>2.515372</td>\n",
       "      <td>Sex</td>\n",
       "    </tr>\n",
       "    <tr>\n",
       "      <th>5</th>\n",
       "      <td>39.626733</td>\n",
       "      <td>Shell weight</td>\n",
       "    </tr>\n",
       "    <tr>\n",
       "      <th>3</th>\n",
       "      <td>41.384858</td>\n",
       "      <td>Shucked weight</td>\n",
       "    </tr>\n",
       "    <tr>\n",
       "      <th>4</th>\n",
       "      <td>44.893522</td>\n",
       "      <td>Viscera weight</td>\n",
       "    </tr>\n",
       "    <tr>\n",
       "      <th>2</th>\n",
       "      <td>71.611259</td>\n",
       "      <td>Height</td>\n",
       "    </tr>\n",
       "    <tr>\n",
       "      <th>1</th>\n",
       "      <td>87.050991</td>\n",
       "      <td>Length</td>\n",
       "    </tr>\n",
       "  </tbody>\n",
       "</table>\n",
       "</div>"
      ],
      "text/plain": [
       "         VIF          column\n",
       "0   2.515372             Sex\n",
       "5  39.626733    Shell weight\n",
       "3  41.384858  Shucked weight\n",
       "4  44.893522  Viscera weight\n",
       "2  71.611259          Height\n",
       "1  87.050991          Length"
      ]
     },
     "execution_count": 27,
     "metadata": {},
     "output_type": "execute_result"
    }
   ],
   "source": [
    "# Removing Multi-colinerity \n",
    "X = df.iloc[:,:-1]\n",
    "X = X.drop(['Diameter','Whole weight'],axis=1)\n",
    "df_info = pd.DataFrame()\n",
    "df_info['VIF'] = [variance_inflation_factor(X.values,i) for i in range(X.shape[1])]\n",
    "df_info['column'] = X.columns\n",
    "df_info.sort_values('VIF')"
   ]
  },
  {
   "cell_type": "markdown",
   "id": "146f41cf",
   "metadata": {},
   "source": [
    "# Checking for skewness and Remove"
   ]
  },
  {
   "cell_type": "code",
   "execution_count": 28,
   "id": "d5382c9c",
   "metadata": {},
   "outputs": [
    {
     "data": {
      "text/plain": [
       "Length           -0.580671\n",
       "Diameter         -0.557986\n",
       "Height           -0.183734\n",
       "Sex              -0.098854\n",
       "Whole weight      0.078513\n",
       "Shell weight      0.139789\n",
       "Shucked weight    0.239355\n",
       "Viscera weight    0.368552\n",
       "Rings             1.145136\n",
       "dtype: float64"
      ]
     },
     "execution_count": 28,
     "metadata": {},
     "output_type": "execute_result"
    }
   ],
   "source": [
    "df.skew().sort_values()"
   ]
  },
  {
   "cell_type": "code",
   "execution_count": 29,
   "id": "ec3aa1e7",
   "metadata": {},
   "outputs": [
    {
     "data": {
      "text/html": [
       "<div>\n",
       "<style scoped>\n",
       "    .dataframe tbody tr th:only-of-type {\n",
       "        vertical-align: middle;\n",
       "    }\n",
       "\n",
       "    .dataframe tbody tr th {\n",
       "        vertical-align: top;\n",
       "    }\n",
       "\n",
       "    .dataframe thead th {\n",
       "        text-align: right;\n",
       "    }\n",
       "</style>\n",
       "<table border=\"1\" class=\"dataframe\">\n",
       "  <thead>\n",
       "    <tr style=\"text-align: right;\">\n",
       "      <th></th>\n",
       "      <th>Sex</th>\n",
       "      <th>Length</th>\n",
       "      <th>Height</th>\n",
       "      <th>Shucked weight</th>\n",
       "      <th>Viscera weight</th>\n",
       "      <th>Shell weight</th>\n",
       "    </tr>\n",
       "  </thead>\n",
       "  <tbody>\n",
       "    <tr>\n",
       "      <th>0</th>\n",
       "      <td>1.124584</td>\n",
       "      <td>-0.692898</td>\n",
       "      <td>-1.185447</td>\n",
       "      <td>-0.533667</td>\n",
       "      <td>-0.660465</td>\n",
       "      <td>-0.583487</td>\n",
       "    </tr>\n",
       "    <tr>\n",
       "      <th>1</th>\n",
       "      <td>1.124584</td>\n",
       "      <td>-1.460296</td>\n",
       "      <td>-1.309753</td>\n",
       "      <td>-1.334196</td>\n",
       "      <td>-1.353998</td>\n",
       "      <td>-1.386843</td>\n",
       "    </tr>\n",
       "    <tr>\n",
       "      <th>2</th>\n",
       "      <td>-1.305741</td>\n",
       "      <td>-0.051391</td>\n",
       "      <td>-0.152709</td>\n",
       "      <td>-0.354469</td>\n",
       "      <td>-0.226978</td>\n",
       "      <td>-0.080398</td>\n",
       "    </tr>\n",
       "    <tr>\n",
       "      <th>3</th>\n",
       "      <td>1.124584</td>\n",
       "      <td>-0.812243</td>\n",
       "      <td>-0.416737</td>\n",
       "      <td>-0.583680</td>\n",
       "      <td>-0.514572</td>\n",
       "      <td>-0.535848</td>\n",
       "    </tr>\n",
       "    <tr>\n",
       "      <th>4</th>\n",
       "      <td>-0.009157</td>\n",
       "      <td>-1.587376</td>\n",
       "      <td>-1.554660</td>\n",
       "      <td>-1.411386</td>\n",
       "      <td>-1.500579</td>\n",
       "      <td>-1.553356</td>\n",
       "    </tr>\n",
       "    <tr>\n",
       "      <th>...</th>\n",
       "      <td>...</td>\n",
       "      <td>...</td>\n",
       "      <td>...</td>\n",
       "      <td>...</td>\n",
       "      <td>...</td>\n",
       "      <td>...</td>\n",
       "    </tr>\n",
       "    <tr>\n",
       "      <th>4150</th>\n",
       "      <td>-1.305741</td>\n",
       "      <td>0.272319</td>\n",
       "      <td>0.659508</td>\n",
       "      <td>0.208296</td>\n",
       "      <td>0.642882</td>\n",
       "      <td>0.205281</td>\n",
       "    </tr>\n",
       "    <tr>\n",
       "      <th>4151</th>\n",
       "      <td>1.124584</td>\n",
       "      <td>0.512583</td>\n",
       "      <td>-0.152709</td>\n",
       "      <td>0.522019</td>\n",
       "      <td>0.440814</td>\n",
       "      <td>0.290770</td>\n",
       "    </tr>\n",
       "    <tr>\n",
       "      <th>4152</th>\n",
       "      <td>1.124584</td>\n",
       "      <td>0.610752</td>\n",
       "      <td>1.783333</td>\n",
       "      <td>0.877578</td>\n",
       "      <td>1.015525</td>\n",
       "      <td>0.633296</td>\n",
       "    </tr>\n",
       "    <tr>\n",
       "      <th>4153</th>\n",
       "      <td>-1.305741</td>\n",
       "      <td>0.861237</td>\n",
       "      <td>0.249804</td>\n",
       "      <td>0.900920</td>\n",
       "      <td>0.813276</td>\n",
       "      <td>0.556091</td>\n",
       "    </tr>\n",
       "    <tr>\n",
       "      <th>4154</th>\n",
       "      <td>1.124584</td>\n",
       "      <td>1.765191</td>\n",
       "      <td>1.498400</td>\n",
       "      <td>1.799703</td>\n",
       "      <td>1.587131</td>\n",
       "      <td>1.582282</td>\n",
       "    </tr>\n",
       "  </tbody>\n",
       "</table>\n",
       "<p>4155 rows × 6 columns</p>\n",
       "</div>"
      ],
      "text/plain": [
       "           Sex    Length    Height  Shucked weight  Viscera weight  \\\n",
       "0     1.124584 -0.692898 -1.185447       -0.533667       -0.660465   \n",
       "1     1.124584 -1.460296 -1.309753       -1.334196       -1.353998   \n",
       "2    -1.305741 -0.051391 -0.152709       -0.354469       -0.226978   \n",
       "3     1.124584 -0.812243 -0.416737       -0.583680       -0.514572   \n",
       "4    -0.009157 -1.587376 -1.554660       -1.411386       -1.500579   \n",
       "...        ...       ...       ...             ...             ...   \n",
       "4150 -1.305741  0.272319  0.659508        0.208296        0.642882   \n",
       "4151  1.124584  0.512583 -0.152709        0.522019        0.440814   \n",
       "4152  1.124584  0.610752  1.783333        0.877578        1.015525   \n",
       "4153 -1.305741  0.861237  0.249804        0.900920        0.813276   \n",
       "4154  1.124584  1.765191  1.498400        1.799703        1.587131   \n",
       "\n",
       "      Shell weight  \n",
       "0        -0.583487  \n",
       "1        -1.386843  \n",
       "2        -0.080398  \n",
       "3        -0.535848  \n",
       "4        -1.553356  \n",
       "...            ...  \n",
       "4150      0.205281  \n",
       "4151      0.290770  \n",
       "4152      0.633296  \n",
       "4153      0.556091  \n",
       "4154      1.582282  \n",
       "\n",
       "[4155 rows x 6 columns]"
      ]
     },
     "execution_count": 29,
     "metadata": {},
     "output_type": "execute_result"
    }
   ],
   "source": [
    "X_transform = PowerTransformer().fit_transform(X)\n",
    "X = pd.DataFrame(X_transform,columns=X.columns)\n",
    "X"
   ]
  },
  {
   "cell_type": "code",
   "execution_count": 30,
   "id": "b7f4f32e",
   "metadata": {},
   "outputs": [
    {
     "data": {
      "text/plain": [
       "Shell weight     -0.190392\n",
       "Sex              -0.176932\n",
       "Shucked weight   -0.175589\n",
       "Length           -0.165057\n",
       "Viscera weight   -0.139078\n",
       "Height           -0.056575\n",
       "dtype: float64"
      ]
     },
     "execution_count": 30,
     "metadata": {},
     "output_type": "execute_result"
    }
   ],
   "source": [
    "X.skew().sort_values()"
   ]
  },
  {
   "cell_type": "markdown",
   "id": "befc911f",
   "metadata": {},
   "source": [
    "# Train Test Split Method"
   ]
  },
  {
   "cell_type": "code",
   "execution_count": 31,
   "id": "9fd73ede",
   "metadata": {},
   "outputs": [],
   "source": [
    "X_train,X_test,y_train, y_test = train_test_split(X,y,test_size=0.33,random_state=41)"
   ]
  },
  {
   "cell_type": "code",
   "execution_count": 32,
   "id": "ab0f451e",
   "metadata": {},
   "outputs": [
    {
     "name": "stdout",
     "output_type": "stream",
     "text": [
      "(2783, 6) (2783,)\n"
     ]
    }
   ],
   "source": [
    "print(X_train.shape,y_train.shape)"
   ]
  },
  {
   "cell_type": "code",
   "execution_count": 33,
   "id": "6c72b9ae",
   "metadata": {},
   "outputs": [
    {
     "name": "stdout",
     "output_type": "stream",
     "text": [
      "(1372, 6) (1372,)\n"
     ]
    }
   ],
   "source": [
    "print(X_test.shape,y_test.shape)"
   ]
  },
  {
   "cell_type": "markdown",
   "id": "0e22a4c6",
   "metadata": {},
   "source": [
    "# Logistic Regresison Model"
   ]
  },
  {
   "cell_type": "code",
   "execution_count": 34,
   "id": "28ce3e43",
   "metadata": {},
   "outputs": [],
   "source": [
    "logisticRegression = LogisticRegression()"
   ]
  },
  {
   "cell_type": "code",
   "execution_count": 35,
   "id": "403134a3",
   "metadata": {},
   "outputs": [
    {
     "name": "stderr",
     "output_type": "stream",
     "text": [
      "C:\\Users\\gahlo\\anaconda3\\lib\\site-packages\\sklearn\\linear_model\\_logistic.py:763: ConvergenceWarning: lbfgs failed to converge (status=1):\n",
      "STOP: TOTAL NO. of ITERATIONS REACHED LIMIT.\n",
      "\n",
      "Increase the number of iterations (max_iter) or scale the data as shown in:\n",
      "    https://scikit-learn.org/stable/modules/preprocessing.html\n",
      "Please also refer to the documentation for alternative solver options:\n",
      "    https://scikit-learn.org/stable/modules/linear_model.html#logistic-regression\n",
      "  n_iter_i = _check_optimize_result(\n"
     ]
    },
    {
     "data": {
      "text/plain": [
       "LogisticRegression()"
      ]
     },
     "execution_count": 35,
     "metadata": {},
     "output_type": "execute_result"
    }
   ],
   "source": [
    "logisticRegression.fit(X_train,y_train)"
   ]
  },
  {
   "cell_type": "code",
   "execution_count": 36,
   "id": "947cd74f",
   "metadata": {},
   "outputs": [
    {
     "data": {
      "text/plain": [
       "array([ 8,  8,  8, ..., 12, 10,  9], dtype=int64)"
      ]
     },
     "execution_count": 36,
     "metadata": {},
     "output_type": "execute_result"
    }
   ],
   "source": [
    "y_predict = logisticRegression.predict(X_test)\n",
    "y_predict"
   ]
  },
  {
   "cell_type": "code",
   "execution_count": 37,
   "id": "74de3dfe",
   "metadata": {},
   "outputs": [
    {
     "data": {
      "text/plain": [
       "0.271865889212828"
      ]
     },
     "execution_count": 37,
     "metadata": {},
     "output_type": "execute_result"
    }
   ],
   "source": [
    "logisticRegression.score(X_test,y_test)"
   ]
  },
  {
   "cell_type": "code",
   "execution_count": 38,
   "id": "37adb9c5",
   "metadata": {},
   "outputs": [
    {
     "data": {
      "text/plain": [
       "array([[ 0,  0,  2,  0,  0,  0,  0,  0,  0,  0,  0,  0,  0,  0,  0,  0,\n",
       "         0,  0,  0,  0,  0,  0,  0,  0],\n",
       "       [ 0,  2, 11,  3,  1,  0,  0,  0,  0,  0,  0,  0,  0,  0,  0,  0,\n",
       "         0,  0,  0,  0,  0,  0,  0,  0],\n",
       "       [ 0,  0, 16, 11,  5,  0,  0,  0,  0,  0,  0,  0,  0,  0,  0,  0,\n",
       "         0,  0,  0,  0,  0,  0,  0,  0],\n",
       "       [ 0,  1,  8, 28, 38, 16,  1,  1,  0,  0,  1,  0,  0,  1,  0,  0,\n",
       "         0,  0,  0,  0,  0,  0,  0,  0],\n",
       "       [ 0,  0,  8, 11, 50, 44, 11,  0,  1,  0,  0,  0,  0,  0,  0,  0,\n",
       "         0,  0,  0,  0,  0,  0,  0,  0],\n",
       "       [ 0,  0,  2,  4, 30, 67, 63, 15,  1,  0,  0,  0,  0,  0,  0,  0,\n",
       "         0,  0,  0,  0,  0,  0,  0,  0],\n",
       "       [ 0,  0,  0,  4, 15, 41, 95, 58,  7,  0,  2,  0,  0,  0,  0,  0,\n",
       "         0,  0,  0,  0,  0,  0,  0,  0],\n",
       "       [ 0,  0,  0,  4, 16, 16, 75, 74, 24,  2,  3,  0,  0,  1,  0,  0,\n",
       "         0,  0,  0,  0,  0,  0,  0,  0],\n",
       "       [ 0,  0,  0,  1,  3, 11, 47, 69, 32,  1,  3,  0,  0,  0,  0,  0,\n",
       "         0,  0,  0,  0,  0,  0,  0,  0],\n",
       "       [ 0,  0,  0,  0,  3,  4, 21, 36, 21,  1,  4,  1,  0,  1,  0,  0,\n",
       "         0,  1,  0,  0,  0,  0,  0,  0],\n",
       "       [ 0,  0,  0,  0,  1,  4,  4, 31, 12,  2,  7,  1,  0,  1,  0,  0,\n",
       "         0,  0,  0,  0,  0,  0,  0,  0],\n",
       "       [ 0,  0,  0,  0,  0,  3,  6,  9, 11,  2,  5,  0,  0,  4,  0,  0,\n",
       "         0,  0,  0,  0,  0,  0,  0,  0],\n",
       "       [ 0,  0,  0,  0,  0,  1,  6, 15,  7,  1,  7,  0,  0,  1,  0,  0,\n",
       "         0,  0,  0,  0,  0,  0,  0,  0],\n",
       "       [ 0,  0,  0,  0,  1,  1,  2,  5,  2,  2,  6,  0,  0,  1,  0,  0,\n",
       "         0,  0,  0,  0,  0,  0,  0,  0],\n",
       "       [ 0,  0,  0,  0,  0,  0,  1, 10,  5,  0,  3,  1,  0,  2,  0,  0,\n",
       "         0,  0,  0,  0,  0,  0,  0,  0],\n",
       "       [ 0,  0,  0,  0,  0,  1,  0,  6,  2,  1,  1,  0,  0,  2,  0,  0,\n",
       "         0,  0,  0,  0,  0,  0,  0,  0],\n",
       "       [ 0,  0,  0,  0,  0,  1,  0,  5,  0,  0,  1,  0,  0,  0,  0,  0,\n",
       "         0,  0,  0,  0,  0,  0,  0,  0],\n",
       "       [ 0,  0,  0,  0,  0,  0,  0,  3,  2,  0,  1,  0,  0,  0,  0,  0,\n",
       "         0,  0,  0,  0,  0,  0,  0,  0],\n",
       "       [ 0,  0,  0,  0,  0,  0,  1,  0,  1,  0,  2,  0,  0,  0,  0,  0,\n",
       "         0,  0,  0,  0,  0,  0,  0,  0],\n",
       "       [ 0,  0,  0,  0,  0,  0,  0,  1,  1,  0,  0,  0,  0,  1,  0,  0,\n",
       "         0,  0,  0,  0,  0,  0,  0,  0],\n",
       "       [ 0,  0,  0,  0,  0,  0,  0,  1,  0,  0,  0,  0,  0,  1,  0,  0,\n",
       "         0,  0,  0,  0,  0,  0,  0,  0],\n",
       "       [ 0,  0,  0,  0,  0,  0,  0,  0,  0,  0,  1,  0,  0,  0,  0,  0,\n",
       "         0,  0,  0,  0,  0,  0,  0,  0],\n",
       "       [ 0,  0,  0,  0,  0,  0,  0,  0,  0,  0,  0,  0,  0,  1,  0,  0,\n",
       "         0,  0,  0,  0,  0,  0,  0,  0],\n",
       "       [ 0,  0,  0,  0,  0,  0,  0,  0,  1,  0,  0,  0,  0,  0,  0,  0,\n",
       "         0,  1,  0,  0,  0,  0,  0,  0]], dtype=int64)"
      ]
     },
     "execution_count": 38,
     "metadata": {},
     "output_type": "execute_result"
    }
   ],
   "source": [
    "confusion_matrix(y_test,y_predict)"
   ]
  },
  {
   "cell_type": "markdown",
   "id": "a6b95d2b",
   "metadata": {},
   "source": [
    "# Grid Search CV Model"
   ]
  },
  {
   "cell_type": "code",
   "execution_count": 39,
   "id": "14c99060",
   "metadata": {},
   "outputs": [],
   "source": [
    "param_grid = {'penalty' : ['l1','l2'],'C': [0.001,0.01,0.1,1,10,100,1000],'solver' : ['liblinear']}\n",
    "cv = GridSearchCV(LogisticRegression(),param_grid=param_grid,n_jobs=10)"
   ]
  },
  {
   "cell_type": "code",
   "execution_count": 40,
   "id": "ac111366",
   "metadata": {},
   "outputs": [
    {
     "name": "stderr",
     "output_type": "stream",
     "text": [
      "C:\\Users\\gahlo\\anaconda3\\lib\\site-packages\\sklearn\\model_selection\\_split.py:666: UserWarning: The least populated class in y has only 1 members, which is less than n_splits=5.\n",
      "  warnings.warn((\"The least populated class in y has only %d\"\n"
     ]
    },
    {
     "data": {
      "text/plain": [
       "GridSearchCV(estimator=LogisticRegression(), n_jobs=10,\n",
       "             param_grid={'C': [0.001, 0.01, 0.1, 1, 10, 100, 1000],\n",
       "                         'penalty': ['l1', 'l2'], 'solver': ['liblinear']})"
      ]
     },
     "execution_count": 40,
     "metadata": {},
     "output_type": "execute_result"
    }
   ],
   "source": [
    "cv.fit(X_train,y_train)"
   ]
  },
  {
   "cell_type": "code",
   "execution_count": 41,
   "id": "9321099e",
   "metadata": {},
   "outputs": [
    {
     "data": {
      "text/plain": [
       "0.2468613977758547"
      ]
     },
     "execution_count": 41,
     "metadata": {},
     "output_type": "execute_result"
    }
   ],
   "source": [
    "cv.best_score_"
   ]
  },
  {
   "cell_type": "code",
   "execution_count": 42,
   "id": "1ff38bf2",
   "metadata": {},
   "outputs": [
    {
     "data": {
      "text/plain": [
       "{'C': 1, 'penalty': 'l1', 'solver': 'liblinear'}"
      ]
     },
     "execution_count": 42,
     "metadata": {},
     "output_type": "execute_result"
    }
   ],
   "source": [
    "cv.best_params_"
   ]
  },
  {
   "cell_type": "markdown",
   "id": "6a53eb30",
   "metadata": {},
   "source": [
    "# Cross Validation Model"
   ]
  },
  {
   "cell_type": "code",
   "execution_count": 43,
   "id": "dcf8a20a",
   "metadata": {},
   "outputs": [
    {
     "name": "stdout",
     "output_type": "stream",
     "text": [
      "scores: 0.24548656163113997\n",
      "std: 0.023477571771298562\n"
     ]
    }
   ],
   "source": [
    "cv = KFold(n_splits=10,random_state=42,shuffle=True)\n",
    "scores = cross_val_score(LogisticRegression(C=1,penalty='l1',solver='liblinear'),X,y,scoring='accuracy',cv=cv,n_jobs=-1)\n",
    "print('scores:',np.mean(scores))\n",
    "print('std:',np.std(scores))"
   ]
  },
  {
   "cell_type": "code",
   "execution_count": 44,
   "id": "b73f26de",
   "metadata": {},
   "outputs": [],
   "source": [
    "pickle.dump(logisticRegression,open('logistic_regression.pkl','wb'))"
   ]
  },
  {
   "cell_type": "markdown",
   "id": "4d6c27f1",
   "metadata": {},
   "source": [
    "# Decision Tree Classifier"
   ]
  },
  {
   "cell_type": "code",
   "execution_count": 45,
   "id": "7b11080e",
   "metadata": {},
   "outputs": [],
   "source": [
    "decisionTreeClassifier = DecisionTreeClassifier(max_depth=10)"
   ]
  },
  {
   "cell_type": "code",
   "execution_count": 46,
   "id": "10c4d3a3",
   "metadata": {},
   "outputs": [
    {
     "data": {
      "text/plain": [
       "DecisionTreeClassifier(max_depth=10)"
      ]
     },
     "execution_count": 46,
     "metadata": {},
     "output_type": "execute_result"
    }
   ],
   "source": [
    "decisionTreeClassifier.fit(X_train,y_train)"
   ]
  },
  {
   "cell_type": "code",
   "execution_count": 47,
   "id": "f01e3939",
   "metadata": {},
   "outputs": [],
   "source": [
    "y_pred = decisionTreeClassifier.predict(X_test)"
   ]
  },
  {
   "cell_type": "code",
   "execution_count": 48,
   "id": "f4813f9b",
   "metadata": {},
   "outputs": [
    {
     "data": {
      "text/plain": [
       "0.2434402332361516"
      ]
     },
     "execution_count": 48,
     "metadata": {},
     "output_type": "execute_result"
    }
   ],
   "source": [
    "metrics.accuracy_score(y_test,y_pred)"
   ]
  },
  {
   "cell_type": "markdown",
   "id": "c4e76054",
   "metadata": {},
   "source": [
    "# Grid Search CV Model"
   ]
  },
  {
   "cell_type": "code",
   "execution_count": 49,
   "id": "b0db1b8b",
   "metadata": {},
   "outputs": [
    {
     "name": "stderr",
     "output_type": "stream",
     "text": [
      "C:\\Users\\gahlo\\anaconda3\\lib\\site-packages\\sklearn\\model_selection\\_split.py:666: UserWarning: The least populated class in y has only 1 members, which is less than n_splits=5.\n",
      "  warnings.warn((\"The least populated class in y has only %d\"\n"
     ]
    },
    {
     "data": {
      "text/plain": [
       "GridSearchCV(estimator=DecisionTreeClassifier(max_depth=10), n_jobs=10,\n",
       "             param_grid={'criterion': ['entropy', 'gini'],\n",
       "                         'max_depth': [4, 5, 6, 7, 8, 9, 10, 11, 12, 15, 20, 30,\n",
       "                                       40, 50, 70, 90, 120, 150],\n",
       "                         'min_samples_leaf': [4, 5, 6, 7, 8, 9, 10, 11, 12, 15,\n",
       "                                              20, 30, 40, 50, 70, 90, 120,\n",
       "                                              150]})"
      ]
     },
     "execution_count": 49,
     "metadata": {},
     "output_type": "execute_result"
    }
   ],
   "source": [
    "param_grid = {'criterion': ['entropy','gini'],'max_depth': [4,5,6,7,8,9,10,11,12,15,20,30,40,50,70,90,120,150],\n",
    "    'min_samples_leaf': [4,5,6,7,8,9,10,11,12,15,20,30,40,50,70,90,120,150],}\n",
    "cv = GridSearchCV(DecisionTreeClassifier(max_depth=10),param_grid=param_grid,n_jobs=10)\n",
    "cv.fit(X_train,y_train)"
   ]
  },
  {
   "cell_type": "code",
   "execution_count": 50,
   "id": "9c1a6e7e",
   "metadata": {},
   "outputs": [
    {
     "data": {
      "text/plain": [
       "0.2698565025896697"
      ]
     },
     "execution_count": 50,
     "metadata": {},
     "output_type": "execute_result"
    }
   ],
   "source": [
    "cv.best_score_"
   ]
  },
  {
   "cell_type": "code",
   "execution_count": 51,
   "id": "baf0e8b6",
   "metadata": {},
   "outputs": [
    {
     "data": {
      "text/plain": [
       "{'criterion': 'gini', 'max_depth': 5, 'min_samples_leaf': 30}"
      ]
     },
     "execution_count": 51,
     "metadata": {},
     "output_type": "execute_result"
    }
   ],
   "source": [
    "cv.best_params_"
   ]
  },
  {
   "cell_type": "markdown",
   "id": "c0632c53",
   "metadata": {},
   "source": [
    "# Cross Validation Model"
   ]
  },
  {
   "cell_type": "code",
   "execution_count": 52,
   "id": "d8c24143",
   "metadata": {},
   "outputs": [
    {
     "name": "stdout",
     "output_type": "stream",
     "text": [
      "scores: 0.2661804911955514\n",
      "std: 0.02103097005085742\n"
     ]
    }
   ],
   "source": [
    "cv = KFold(n_splits=10,random_state=42,shuffle=True)\n",
    "scores = cross_val_score(DecisionTreeClassifier(criterion = 'gini', max_depth = 5, min_samples_leaf=30),X,y,scoring='accuracy',cv=cv,n_jobs=-1)\n",
    "\n",
    "print('scores:',np.mean(scores))\n",
    "print('std:',np.std(scores))"
   ]
  },
  {
   "cell_type": "code",
   "execution_count": 53,
   "id": "0d693c7e",
   "metadata": {},
   "outputs": [],
   "source": [
    "pickle.dump(KFold,open('kfold.pkl','wb'))"
   ]
  },
  {
   "cell_type": "markdown",
   "id": "d3d87019",
   "metadata": {},
   "source": [
    "# Support Vector Regression (SVM)"
   ]
  },
  {
   "cell_type": "code",
   "execution_count": 54,
   "id": "31bbed75",
   "metadata": {},
   "outputs": [],
   "source": [
    "svc = SVC(kernel='linear')"
   ]
  },
  {
   "cell_type": "code",
   "execution_count": 55,
   "id": "501a5975",
   "metadata": {},
   "outputs": [
    {
     "data": {
      "text/plain": [
       "SVC(kernel='linear')"
      ]
     },
     "execution_count": 55,
     "metadata": {},
     "output_type": "execute_result"
    }
   ],
   "source": [
    "svc.fit(X_train,y_train)"
   ]
  },
  {
   "cell_type": "code",
   "execution_count": 56,
   "id": "29001dd3",
   "metadata": {},
   "outputs": [
    {
     "data": {
      "text/plain": [
       "array([8, 8, 8, ..., 9, 9, 9], dtype=int64)"
      ]
     },
     "execution_count": 56,
     "metadata": {},
     "output_type": "execute_result"
    }
   ],
   "source": [
    "y_pred = svc.predict(X_test)\n",
    "y_pred"
   ]
  },
  {
   "cell_type": "code",
   "execution_count": 57,
   "id": "369f12af",
   "metadata": {},
   "outputs": [
    {
     "data": {
      "text/plain": [
       "0.271865889212828"
      ]
     },
     "execution_count": 57,
     "metadata": {},
     "output_type": "execute_result"
    }
   ],
   "source": [
    "metrics.accuracy_score(y_test,y_pred)"
   ]
  },
  {
   "cell_type": "markdown",
   "id": "2e61cbb8",
   "metadata": {},
   "source": [
    "# Grid Search CV Model"
   ]
  },
  {
   "cell_type": "code",
   "execution_count": 58,
   "id": "6ea9db47",
   "metadata": {},
   "outputs": [],
   "source": [
    "param_grid = {'C': [1,10,100],'kernel': ('linear','rbf'),'gamma' : [1e-3, 1e-4]}\n",
    "cv = GridSearchCV(SVC(kernel='linear'),param_grid=param_grid,n_jobs=10)"
   ]
  },
  {
   "cell_type": "code",
   "execution_count": 59,
   "id": "5dc1844f",
   "metadata": {},
   "outputs": [
    {
     "name": "stderr",
     "output_type": "stream",
     "text": [
      "C:\\Users\\gahlo\\anaconda3\\lib\\site-packages\\sklearn\\model_selection\\_split.py:666: UserWarning: The least populated class in y has only 1 members, which is less than n_splits=5.\n",
      "  warnings.warn((\"The least populated class in y has only %d\"\n"
     ]
    },
    {
     "data": {
      "text/plain": [
       "GridSearchCV(estimator=SVC(kernel='linear'), n_jobs=10,\n",
       "             param_grid={'C': [1, 10, 100], 'gamma': [0.001, 0.0001],\n",
       "                         'kernel': ('linear', 'rbf')})"
      ]
     },
     "execution_count": 59,
     "metadata": {},
     "output_type": "execute_result"
    }
   ],
   "source": [
    "cv.fit(X_train,y_train)"
   ]
  },
  {
   "cell_type": "code",
   "execution_count": 60,
   "id": "64db940a",
   "metadata": {},
   "outputs": [
    {
     "data": {
      "text/plain": [
       "0.2587131730881004"
      ]
     },
     "execution_count": 60,
     "metadata": {},
     "output_type": "execute_result"
    }
   ],
   "source": [
    "cv.best_score_"
   ]
  },
  {
   "cell_type": "code",
   "execution_count": 61,
   "id": "757b221e",
   "metadata": {},
   "outputs": [
    {
     "data": {
      "text/plain": [
       "{'C': 10, 'gamma': 0.001, 'kernel': 'linear'}"
      ]
     },
     "execution_count": 61,
     "metadata": {},
     "output_type": "execute_result"
    }
   ],
   "source": [
    "cv.best_params_"
   ]
  },
  {
   "cell_type": "markdown",
   "id": "dd787b05",
   "metadata": {},
   "source": [
    "# Cross Validation Model"
   ]
  },
  {
   "cell_type": "code",
   "execution_count": 62,
   "id": "ae10af84",
   "metadata": {},
   "outputs": [
    {
     "name": "stdout",
     "output_type": "stream",
     "text": [
      "scores: 0.2555815569972196\n",
      "std: 0.02013313338448929\n"
     ]
    }
   ],
   "source": [
    "cv = KFold(n_splits=10,random_state=42,shuffle=True)\n",
    "scores = cross_val_score(SVC(C =  10, gamma = 0.001, kernel = 'linear'),X,y,cv=cv,scoring='accuracy',n_jobs=-1)\n",
    "\n",
    "print('scores:',np.mean(scores))\n",
    "print('std:',np.std(scores))"
   ]
  },
  {
   "cell_type": "code",
   "execution_count": 63,
   "id": "44ab2028",
   "metadata": {},
   "outputs": [],
   "source": [
    "pickle.dump(svc,open('svc.pkl','wb'))"
   ]
  },
  {
   "cell_type": "markdown",
   "id": "221598ba",
   "metadata": {},
   "source": [
    "# KNN"
   ]
  },
  {
   "cell_type": "code",
   "execution_count": 64,
   "id": "97eeeecb",
   "metadata": {},
   "outputs": [],
   "source": [
    "knn = KNeighborsClassifier(n_neighbors=5)"
   ]
  },
  {
   "cell_type": "code",
   "execution_count": 65,
   "id": "45034025",
   "metadata": {},
   "outputs": [
    {
     "data": {
      "text/plain": [
       "KNeighborsClassifier()"
      ]
     },
     "execution_count": 65,
     "metadata": {},
     "output_type": "execute_result"
    }
   ],
   "source": [
    "knn.fit(X_train,y_train)"
   ]
  },
  {
   "cell_type": "code",
   "execution_count": 66,
   "id": "9dda9a17",
   "metadata": {},
   "outputs": [],
   "source": [
    "y_pred = knn.predict(X_test)"
   ]
  },
  {
   "cell_type": "code",
   "execution_count": 67,
   "id": "146cec78",
   "metadata": {},
   "outputs": [
    {
     "data": {
      "text/plain": [
       "0.20043731778425655"
      ]
     },
     "execution_count": 67,
     "metadata": {},
     "output_type": "execute_result"
    }
   ],
   "source": [
    "metrics.accuracy_score(y_test,y_pred)"
   ]
  },
  {
   "cell_type": "markdown",
   "id": "5ddd3a96",
   "metadata": {},
   "source": [
    "# Grid Search CV Model"
   ]
  },
  {
   "cell_type": "code",
   "execution_count": 68,
   "id": "97d139c6",
   "metadata": {},
   "outputs": [],
   "source": [
    "param_grid = {'n_neighbors': [2,3,5,11,19],'weights':['uniform','distance'],'metric' : ['euclidean','manhattan']}\n",
    "cv = GridSearchCV(KNeighborsClassifier(n_neighbors=5),param_grid=param_grid,n_jobs=10)"
   ]
  },
  {
   "cell_type": "code",
   "execution_count": 69,
   "id": "8fe0d974",
   "metadata": {},
   "outputs": [
    {
     "name": "stderr",
     "output_type": "stream",
     "text": [
      "C:\\Users\\gahlo\\anaconda3\\lib\\site-packages\\sklearn\\model_selection\\_split.py:666: UserWarning: The least populated class in y has only 1 members, which is less than n_splits=5.\n",
      "  warnings.warn((\"The least populated class in y has only %d\"\n"
     ]
    },
    {
     "data": {
      "text/plain": [
       "GridSearchCV(estimator=KNeighborsClassifier(), n_jobs=10,\n",
       "             param_grid={'metric': ['euclidean', 'manhattan'],\n",
       "                         'n_neighbors': [2, 3, 5, 11, 19],\n",
       "                         'weights': ['uniform', 'distance']})"
      ]
     },
     "execution_count": 69,
     "metadata": {},
     "output_type": "execute_result"
    }
   ],
   "source": [
    "cv.fit(X_train,y_train)"
   ]
  },
  {
   "cell_type": "code",
   "execution_count": 70,
   "id": "d2ba8f2e",
   "metadata": {},
   "outputs": [
    {
     "data": {
      "text/plain": [
       "0.24937550856980484"
      ]
     },
     "execution_count": 70,
     "metadata": {},
     "output_type": "execute_result"
    }
   ],
   "source": [
    "cv.best_score_"
   ]
  },
  {
   "cell_type": "code",
   "execution_count": 71,
   "id": "3989ccc6",
   "metadata": {},
   "outputs": [
    {
     "data": {
      "text/plain": [
       "{'metric': 'euclidean', 'n_neighbors': 19, 'weights': 'uniform'}"
      ]
     },
     "execution_count": 71,
     "metadata": {},
     "output_type": "execute_result"
    }
   ],
   "source": [
    "cv.best_params_"
   ]
  },
  {
   "cell_type": "markdown",
   "id": "d1836c14",
   "metadata": {},
   "source": [
    "# Cross Validation Model"
   ]
  },
  {
   "cell_type": "code",
   "execution_count": 72,
   "id": "3b947c06",
   "metadata": {},
   "outputs": [
    {
     "name": "stdout",
     "output_type": "stream",
     "text": [
      "scores: 0.23826517608897127\n",
      "std: 0.020549292897006223\n"
     ]
    }
   ],
   "source": [
    "cv = KFold(n_splits=10,random_state=42,shuffle=True)\n",
    "scores = cross_val_score(KNeighborsClassifier(metric= 'euclidean', n_neighbors = 19, weights = 'uniform'),X,y,cv=cv,scoring='accuracy',n_jobs=-1)\n",
    "\n",
    "print('scores:',np.mean(scores))\n",
    "print('std:',np.std(scores))"
   ]
  },
  {
   "cell_type": "code",
   "execution_count": 73,
   "id": "1a9329d7",
   "metadata": {},
   "outputs": [],
   "source": [
    "pickle.dump(knn,open('knn.pkl','wb'))"
   ]
  },
  {
   "cell_type": "markdown",
   "id": "dbf9b581",
   "metadata": {},
   "source": [
    "#                                        Best Model is Support Vector Regression (SVM) with 27%"
   ]
  }
 ],
 "metadata": {
  "kernelspec": {
   "display_name": "Python 3",
   "language": "python",
   "name": "python3"
  },
  "language_info": {
   "codemirror_mode": {
    "name": "ipython",
    "version": 3
   },
   "file_extension": ".py",
   "mimetype": "text/x-python",
   "name": "python",
   "nbconvert_exporter": "python",
   "pygments_lexer": "ipython3",
   "version": "3.8.8"
  }
 },
 "nbformat": 4,
 "nbformat_minor": 5
}
